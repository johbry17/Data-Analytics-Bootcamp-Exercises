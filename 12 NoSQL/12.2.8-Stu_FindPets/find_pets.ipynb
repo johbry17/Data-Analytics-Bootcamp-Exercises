{
 "cells": [
  {
   "cell_type": "code",
   "execution_count": 1,
   "id": "932766e9",
   "metadata": {},
   "outputs": [],
   "source": [
    "# Import dependencies\n",
    "from pymongo import MongoClient\n",
    "from pprint import pprint"
   ]
  },
  {
   "cell_type": "code",
   "execution_count": 2,
   "id": "9e27c2de",
   "metadata": {},
   "outputs": [],
   "source": [
    "# Create an instance of MongoClient\n",
    "mongo = MongoClient(port=27017)"
   ]
  },
  {
   "cell_type": "code",
   "execution_count": 3,
   "id": "7fcd88f2",
   "metadata": {},
   "outputs": [
    {
     "name": "stdout",
     "output_type": "stream",
     "text": [
      "['admin', 'config', 'epa', 'fruits_db', 'local', 'petsitly_marketing']\n"
     ]
    }
   ],
   "source": [
    "# confirm that the \"petsitly_marketing\" database is in MongoDB\n",
    "print(mongo.list_database_names())"
   ]
  },
  {
   "cell_type": "code",
   "execution_count": 4,
   "id": "d40c1869",
   "metadata": {},
   "outputs": [],
   "source": [
    "# assign the database to a variable name\n",
    "db = mongo['petsitly_marketing']"
   ]
  },
  {
   "cell_type": "code",
   "execution_count": 5,
   "id": "c9f586b6",
   "metadata": {},
   "outputs": [
    {
     "name": "stdout",
     "output_type": "stream",
     "text": [
      "['customer_list']\n"
     ]
    }
   ],
   "source": [
    "# review the collections in our new database\n",
    "print(db.list_collection_names())"
   ]
  },
  {
   "cell_type": "code",
   "execution_count": 6,
   "id": "41bd682a",
   "metadata": {},
   "outputs": [],
   "source": [
    "# assign the collection to a variable\n",
    "customers = db['customer_list']"
   ]
  },
  {
   "cell_type": "code",
   "execution_count": 10,
   "id": "bdd6a32b",
   "metadata": {},
   "outputs": [
    {
     "name": "stdout",
     "output_type": "stream",
     "text": [
      "{'2021_Total_Spend': 1638.75,\n",
      " '2021_Visits': 95,\n",
      " 'Address': '5221 Christopher Landing Suite 898',\n",
      " 'Customer_First': 'Malvin',\n",
      " 'Customer_Last': 'Keeling',\n",
      " 'Email': 'udavis@hotmail.com',\n",
      " 'Pet_Type': 'fish',\n",
      " '_id': ObjectId('64eec90ddf0c010319a011d4')}\n",
      "{'2021_Total_Spend': 948.75,\n",
      " '2021_Visits': 55,\n",
      " 'Address': '6981 Christina Summit Apt. 971',\n",
      " 'Customer_First': 'Virgil',\n",
      " 'Customer_Last': 'Osinski',\n",
      " 'Email': 'susanlopez@gmail.com',\n",
      " 'Pet_Type': 'cat',\n",
      " '_id': ObjectId('64eec90ddf0c010319a011d5')}\n"
     ]
    }
   ],
   "source": [
    "# Create a query that finds the customers who had over 50 visits in 2021\n",
    "q = {'2021_Visits': {'$gt': 50}}\n",
    "\n",
    "# Capture the results to a variable\n",
    "r = customers.find(q)\n",
    "\n",
    "# Pretty print the first two results\n",
    "for i in range(2):\n",
    "    pprint(r[i])"
   ]
  },
  {
   "cell_type": "code",
   "execution_count": 12,
   "id": "77fa0f78",
   "metadata": {},
   "outputs": [
    {
     "name": "stdout",
     "output_type": "stream",
     "text": [
      "{'2021_Total_Spend': 103.5,\n",
      " '2021_Visits': 6,\n",
      " 'Address': '40306 Floyd Hollow',\n",
      " 'Customer_First': 'Litzy',\n",
      " 'Customer_Last': 'Paucek',\n",
      " 'Email': 'barbara42@gmail.com',\n",
      " 'Pet_Type': 'cat',\n",
      " '_id': ObjectId('64eec90ddf0c010319a011d7')}\n",
      "{'2021_Total_Spend': 172.5,\n",
      " '2021_Visits': 10,\n",
      " 'Address': '68369 Harris Motorway Apt. 444',\n",
      " 'Customer_First': 'Braulio',\n",
      " 'Customer_Last': 'Daniel',\n",
      " 'Email': 'georgedavid@yahoo.com',\n",
      " 'Pet_Type': 'dog',\n",
      " '_id': ObjectId('64eec90ddf0c010319a011e3')}\n"
     ]
    }
   ],
   "source": [
    "# Create a query that finds the customers who spent $250 or less in 2021\n",
    "q = {'2021_Total_Spend': {'$lt': 250}}\n",
    "\n",
    "# Capture the results to a variable\n",
    "r = customers.find(q)\n",
    "\n",
    "# Pretty print the first two results\n",
    "for i in range(2):\n",
    "    pprint(r[i])"
   ]
  },
  {
   "cell_type": "code",
   "execution_count": 13,
   "id": "79f88a50",
   "metadata": {},
   "outputs": [
    {
     "name": "stdout",
     "output_type": "stream",
     "text": [
      "{'2021_Total_Spend': 1638.75,\n",
      " '2021_Visits': 95,\n",
      " 'Address': '5221 Christopher Landing Suite 898',\n",
      " 'Customer_First': 'Malvin',\n",
      " 'Customer_Last': 'Keeling',\n",
      " 'Email': 'udavis@hotmail.com',\n",
      " 'Pet_Type': 'fish',\n",
      " '_id': ObjectId('64eec90ddf0c010319a011d4')}\n",
      "{'2021_Total_Spend': 1397.25,\n",
      " '2021_Visits': 81,\n",
      " 'Address': '2529 Anthony Streets Suite 146',\n",
      " 'Customer_First': 'Ines',\n",
      " 'Customer_Last': 'Monahan',\n",
      " 'Email': 'hoffmantimothy@yahoo.com',\n",
      " 'Pet_Type': 'cat',\n",
      " '_id': ObjectId('64eec90ddf0c010319a011de')}\n",
      "{'2021_Total_Spend': 448.5,\n",
      " '2021_Visits': 26,\n",
      " 'Address': '5359 Wilson Trafficway Suite 562',\n",
      " 'Customer_First': 'Grady',\n",
      " 'Customer_Last': 'Wyman',\n",
      " 'Email': 'garciaangela@yahoo.com',\n",
      " 'Pet_Type': 'cat',\n",
      " '_id': ObjectId('64eec90ddf0c010319a011e4')}\n"
     ]
    }
   ],
   "source": [
    "# Create a query that finds the customer(s) who live in an apartment with \"Suite\" in the address\n",
    "q = {'Address': {'$regex': 'Suite'}}\n",
    "\n",
    "# Capture the results to a variable\n",
    "r = customers.find(q)\n",
    "\n",
    "# Pretty print the first three results\n",
    "for i in range(3):\n",
    "    pprint(r[i])"
   ]
  },
  {
   "cell_type": "code",
   "execution_count": 14,
   "id": "50443591",
   "metadata": {},
   "outputs": [
    {
     "name": "stdout",
     "output_type": "stream",
     "text": [
      "{'2021_Total_Spend': 1638.75,\n",
      " '2021_Visits': 95,\n",
      " 'Address': '5221 Christopher Landing Suite 898',\n",
      " 'Customer_First': 'Malvin',\n",
      " 'Customer_Last': 'Keeling',\n",
      " 'Email': 'udavis@hotmail.com',\n",
      " 'Pet_Type': 'fish',\n",
      " '_id': ObjectId('64eec90ddf0c010319a011d4')}\n",
      "{'2021_Total_Spend': 1311.0,\n",
      " '2021_Visits': 76,\n",
      " 'Address': '10609 Joanna Manor',\n",
      " 'Customer_First': 'Loni',\n",
      " 'Customer_Last': 'Hauck',\n",
      " 'Email': 'sjohnson@hotmail.com',\n",
      " 'Pet_Type': 'turtle',\n",
      " '_id': ObjectId('64eec90ddf0c010319a011d8')}\n",
      "{'2021_Total_Spend': 448.5,\n",
      " '2021_Visits': 26,\n",
      " 'Address': '34500 Acevedo Plains',\n",
      " 'Customer_First': 'Consuela',\n",
      " 'Customer_Last': 'Kunze',\n",
      " 'Email': 'ycruz@gmail.com',\n",
      " 'Pet_Type': 'turtle',\n",
      " '_id': ObjectId('64eec90ddf0c010319a011e2')}\n"
     ]
    }
   ],
   "source": [
    "# Create a query that finds the customers who have turtles or fish\n",
    "q = {'Pet_Type': {'$in': ['turtle', 'fish']}}\n",
    "\n",
    "# Capture the results to a variable\n",
    "r = customers.find(q)\n",
    "\n",
    "# Pretty print the first three results\n",
    "for i in range(3):\n",
    "    pprint(r[i])"
   ]
  },
  {
   "cell_type": "code",
   "execution_count": null,
   "id": "fcb5f9b3",
   "metadata": {},
   "outputs": [],
   "source": []
  }
 ],
 "metadata": {
  "kernelspec": {
   "display_name": "Python 3 (ipykernel)",
   "language": "python",
   "name": "python3"
  },
  "language_info": {
   "codemirror_mode": {
    "name": "ipython",
    "version": 3
   },
   "file_extension": ".py",
   "mimetype": "text/x-python",
   "name": "python",
   "nbconvert_exporter": "python",
   "pygments_lexer": "ipython3",
   "version": "3.10.11"
  }
 },
 "nbformat": 4,
 "nbformat_minor": 5
}
