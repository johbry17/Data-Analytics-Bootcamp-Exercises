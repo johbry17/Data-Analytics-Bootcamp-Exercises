{
 "cells": [
  {
   "cell_type": "code",
   "execution_count": 1,
   "metadata": {},
   "outputs": [],
   "source": [
    "# Import dependencies\n",
    "from pymongo import MongoClient\n",
    "import datetime"
   ]
  },
  {
   "cell_type": "code",
   "execution_count": 2,
   "metadata": {},
   "outputs": [],
   "source": [
    "# The default port used by MongoDB is 27017\n",
    "# https://docs.mongodb.com/manual/reference/default-mongodb-port/\n",
    "mongo = MongoClient(port=27017)\n",
    "\n",
    "# Declare the database\n",
    "db = mongo['fruits_db']\n",
    "\n",
    "# Declare the collection\n",
    "fruits = db['fruits']\n"
   ]
  },
  {
   "cell_type": "code",
   "execution_count": 5,
   "metadata": {},
   "outputs": [
    {
     "data": {
      "text/plain": [
       "<pymongo.results.InsertOneResult at 0x1fde563ece0>"
      ]
     },
     "execution_count": 5,
     "metadata": {},
     "output_type": "execute_result"
    }
   ],
   "source": [
    "# A dictionary that represents the document to be inserted\n",
    "doc = {\n",
    "    'vendor': 'ABC Fruits',\n",
    "    'fruit': 'Apple',\n",
    "    'case_quantity': 50,\n",
    "    'ripeness': 2,\n",
    "    'date': datetime.datetime.utcnow()\n",
    "}\n",
    "\n",
    "# Pass the dictionary into `insert_one` to insert the document into the database\n",
    "# The database and collection, if they don't already exist, will be created at this point.\n",
    "fruits.insert_one(doc)"
   ]
  },
  {
   "cell_type": "code",
   "execution_count": 8,
   "metadata": {},
   "outputs": [
    {
     "data": {
      "text/plain": [
       "<pymongo.results.InsertOneResult at 0x1fde563f6d0>"
      ]
     },
     "execution_count": 8,
     "metadata": {},
     "output_type": "execute_result"
    }
   ],
   "source": [
    "# Ask the user for input. Store information into variables.\n",
    "name = input(\"What is the vendor name: \")\n",
    "fruit = input(\"What is the type of fruit: \")\n",
    "cases = input(\"How many cases were received: \")\n",
    "ripeness = input(\"What is the ripeness of fruit (1 is unripe; 2 is ripe, 3 is over-ripe):\")\n",
    "\n",
    "# A dictionary that will become a MongoDB document\n",
    "doc = {\n",
    "    'vendor': name,\n",
    "    'fruit': fruit,\n",
    "    'case_quantity': cases,\n",
    "    'ripeness': ripeness,\n",
    "    'date': datetime.datetime.utcnow()\n",
    "}\n",
    "\n",
    "# Insert document into collection\n",
    "fruits.insert_one(doc)"
   ]
  },
  {
   "cell_type": "code",
   "execution_count": 10,
   "metadata": {},
   "outputs": [
    {
     "name": "stdout",
     "output_type": "stream",
     "text": [
      "{'_id': ObjectId('64ee7565a55cbd1198306589'), 'vendor': 'ABC Fruits', 'fruit': 'Apple', 'case_quantity': 50, 'ripeness': 2, 'date': datetime.datetime(2023, 8, 29, 22, 47, 1, 181000)}\n",
      "{'_id': ObjectId('64ee75aaa55cbd119830658a'), 'vendor': 'ABC Fruits', 'fruit': 'Apple', 'case_quantity': 50, 'ripeness': 2, 'date': datetime.datetime(2023, 8, 29, 22, 48, 10, 946000)}\n",
      "{'_id': ObjectId('64ee760ca28dca2121458788'), 'vendor': 'ABC Fruits', 'fruit': 'Apple', 'case_quantity': 50, 'ripeness': 2, 'date': datetime.datetime(2023, 8, 29, 22, 49, 48, 203000)}\n",
      "{'_id': ObjectId('64ee7757a28dca2121458789'), 'vendor': 'ABC Fruits', 'fruit': 'Apple', 'case_quantity': 50, 'ripeness': 2, 'date': datetime.datetime(2023, 8, 29, 22, 55, 19, 719000)}\n",
      "{'_id': ObjectId('64ee77aea28dca212145878a'), 'vendor': 'Geo Gardeners', 'fruit': 'blueberries', 'case_quantity': '4', 'ripeness': '1', 'date': datetime.datetime(2023, 8, 29, 22, 56, 46, 788000)}\n",
      "{'_id': ObjectId('64ee77f2a28dca212145878b'), 'vendor': 'fruit star', 'fruit': 'raspberry', 'case_quantity': '21', 'ripeness': '2', 'date': datetime.datetime(2023, 8, 29, 22, 57, 54, 736000)}\n"
     ]
    }
   ],
   "source": [
    "# Verify results:\n",
    "all = fruits.find()\n",
    "for _ in all:\n",
    "    print(_)"
   ]
  },
  {
   "cell_type": "code",
   "execution_count": null,
   "metadata": {},
   "outputs": [],
   "source": []
  }
 ],
 "metadata": {
  "kernelspec": {
   "display_name": "Python 3 (ipykernel)",
   "language": "python",
   "name": "python3"
  },
  "language_info": {
   "codemirror_mode": {
    "name": "ipython",
    "version": 3
   },
   "file_extension": ".py",
   "mimetype": "text/x-python",
   "name": "python",
   "nbconvert_exporter": "python",
   "pygments_lexer": "ipython3",
   "version": "3.10.11"
  }
 },
 "nbformat": 4,
 "nbformat_minor": 2
}
