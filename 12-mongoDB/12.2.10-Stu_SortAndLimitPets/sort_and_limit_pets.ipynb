{
 "cells": [
  {
   "cell_type": "code",
   "execution_count": 1,
   "id": "d17273e7",
   "metadata": {},
   "outputs": [],
   "source": [
    "# Import dependencies\n",
    "from pymongo import MongoClient\n",
    "from pprint import pprint"
   ]
  },
  {
   "cell_type": "code",
   "execution_count": 2,
   "id": "2fb5655e",
   "metadata": {},
   "outputs": [],
   "source": [
    "# Create an instance of MongoClient\n",
    "mongo = MongoClient(port=27017)"
   ]
  },
  {
   "cell_type": "code",
   "execution_count": 3,
   "id": "64e86434",
   "metadata": {},
   "outputs": [
    {
     "name": "stdout",
     "output_type": "stream",
     "text": [
      "['admin', 'config', 'epa', 'fruits_db', 'local', 'petsitly_marketing']\n"
     ]
    }
   ],
   "source": [
    "# confirm that the \"autosaurus\" database is in MongoDB\n",
    "print(mongo.list_database_names())"
   ]
  },
  {
   "cell_type": "code",
   "execution_count": 4,
   "id": "1d9a3dde",
   "metadata": {},
   "outputs": [],
   "source": [
    "# assign the database to a variable name\n",
    "db = mongo['petsitly_marketing']"
   ]
  },
  {
   "cell_type": "code",
   "execution_count": 5,
   "id": "aa8d0ad7",
   "metadata": {},
   "outputs": [
    {
     "name": "stdout",
     "output_type": "stream",
     "text": [
      "['customer_list']\n"
     ]
    }
   ],
   "source": [
    "# review the collections in our new database\n",
    "print(db.list_collection_names())"
   ]
  },
  {
   "cell_type": "code",
   "execution_count": 6,
   "id": "90ccf45c",
   "metadata": {},
   "outputs": [],
   "source": [
    "# assign the collection to a variable\n",
    "customers = db['customer_list']"
   ]
  },
  {
   "cell_type": "code",
   "execution_count": 7,
   "id": "35a2cc6a",
   "metadata": {},
   "outputs": [
    {
     "name": "stdout",
     "output_type": "stream",
     "text": [
      "[{'2021_Total_Spend': 1707.75,\n",
      "  '2021_Visits': 99,\n",
      "  'Address': '679 Robles Lodge',\n",
      "  'Customer_First': 'Efrem',\n",
      "  'Customer_Last': 'Berge',\n",
      "  'Email': 'lisa93@hotmail.com',\n",
      "  'Pet_Type': 'dog',\n",
      "  '_id': ObjectId('64eec90ddf0c010319a012b7')},\n",
      " {'2021_Total_Spend': 1707.75,\n",
      "  '2021_Visits': 99,\n",
      "  'Address': '0749 Todd Turnpike',\n",
      "  'Customer_First': 'Randal',\n",
      "  'Customer_Last': 'Miller',\n",
      "  'Email': 'sroberts@gmail.com',\n",
      "  'Pet_Type': 'cat',\n",
      "  '_id': ObjectId('64eec90ddf0c010319a0126d')},\n",
      " {'2021_Total_Spend': 1707.75,\n",
      "  '2021_Visits': 99,\n",
      "  'Address': '35267 Chad Shore',\n",
      "  'Customer_First': 'Yuridia',\n",
      "  'Customer_Last': 'Corwin',\n",
      "  'Email': 'gmiller@yahoo.com',\n",
      "  'Pet_Type': 'cat',\n",
      "  '_id': ObjectId('64eec90ddf0c010319a0122c')},\n",
      " {'2021_Total_Spend': 1690.5,\n",
      "  '2021_Visits': 98,\n",
      "  'Address': '416 Victoria Isle',\n",
      "  'Customer_First': 'Corrie',\n",
      "  'Customer_Last': 'Greenfelder',\n",
      "  'Email': 'jamiemartin@gmail.com',\n",
      "  'Pet_Type': 'dog',\n",
      "  '_id': ObjectId('64eec90ddf0c010319a01282')},\n",
      " {'2021_Total_Spend': 1690.5,\n",
      "  '2021_Visits': 98,\n",
      "  'Address': '23287 Smith Avenue',\n",
      "  'Customer_First': 'Mckenzie',\n",
      "  'Customer_Last': 'Gusikowski',\n",
      "  'Email': 'nancymorrison@gmail.com',\n",
      "  'Pet_Type': 'dog',\n",
      "  '_id': ObjectId('64eec90ddf0c010319a011df')}]\n"
     ]
    }
   ],
   "source": [
    "# Create a query that finds customers who have cats or dogs\n",
    "q = {'Pet_Type': {'$in': ['cat', 'dog']}}\n",
    "\n",
    "# sort in descending order by 2021_Total_Spend\n",
    "sort = [('2021_Total_Spend', -1)]\n",
    "\n",
    "# limit the results to the first 5\n",
    "limit = 5\n",
    "\n",
    "# Pretty print the results\n",
    "pprint(list(customers.find(q).sort(sort).limit(limit)))"
   ]
  },
  {
   "cell_type": "code",
   "execution_count": 9,
   "id": "a32c3d95",
   "metadata": {},
   "outputs": [
    {
     "name": "stdout",
     "output_type": "stream",
     "text": [
      "[{'2021_Total_Spend': 207.0,\n",
      "  '2021_Visits': 12,\n",
      "  'Address': '511 Howell Spurs Apt. 193',\n",
      "  'Customer_First': 'Antwan',\n",
      "  'Customer_Last': 'Abernathy',\n",
      "  'Email': 'jennifer86@gmail.com',\n",
      "  'Pet_Type': 'hamster',\n",
      "  '_id': ObjectId('64eec90ddf0c010319a01237')},\n",
      " {'2021_Total_Spend': 172.5,\n",
      "  '2021_Visits': 10,\n",
      "  'Address': '797 Stephanie Creek',\n",
      "  'Customer_First': 'Marsha',\n",
      "  'Customer_Last': 'Aufderhar',\n",
      "  'Email': 'barry38@yahoo.com',\n",
      "  'Pet_Type': 'cat',\n",
      "  '_id': ObjectId('64eec90ddf0c010319a012a5')},\n",
      " {'2021_Total_Spend': 345.0,\n",
      "  '2021_Visits': 20,\n",
      "  'Address': '94960 Hoffman Inlet Apt. 610',\n",
      "  'Customer_First': 'Broderick',\n",
      "  'Customer_Last': 'Barrows',\n",
      "  'Email': 'jack27@hotmail.com',\n",
      "  'Pet_Type': 'fish',\n",
      "  '_id': ObjectId('64eec90ddf0c010319a01229')},\n",
      " {'2021_Total_Spend': 276.0,\n",
      "  '2021_Visits': 16,\n",
      "  'Address': '165 Barnett Hill',\n",
      "  'Customer_First': 'Dulce',\n",
      "  'Customer_Last': 'Beahan',\n",
      "  'Email': 'ssmith@yahoo.com',\n",
      "  'Pet_Type': 'dog',\n",
      "  '_id': ObjectId('64eec90ddf0c010319a01269')},\n",
      " {'2021_Total_Spend': 431.25,\n",
      "  '2021_Visits': 25,\n",
      "  'Address': '1605 Davis Radial',\n",
      "  'Customer_First': 'Arden',\n",
      "  'Customer_Last': 'Becker',\n",
      "  'Email': 'ukramer@gmail.com',\n",
      "  'Pet_Type': 'bird',\n",
      "  '_id': ObjectId('64eec90ddf0c010319a012ae')}]\n"
     ]
    }
   ],
   "source": [
    "# Create a query that finds customers who spent less than $500 in 2021\n",
    "q = {'2021_Total_Spend': {'$lt': 500}}\n",
    "\n",
    "# sort in ascending order by Customer_Last\n",
    "sort = [('Customer_Last')]\n",
    "\n",
    "# limit the results to the first 5\n",
    "limit = 5\n",
    "\n",
    "# Pretty print the results\n",
    "pprint(list(customers.find(q).sort(sort).limit(limit)))"
   ]
  },
  {
   "cell_type": "code",
   "execution_count": 10,
   "id": "5d327858",
   "metadata": {},
   "outputs": [
    {
     "name": "stdout",
     "output_type": "stream",
     "text": [
      "[{'2021_Total_Spend': 362.25,\n",
      "  '2021_Visits': 21,\n",
      "  'Customer_First': 'Jasmyne',\n",
      "  'Customer_Last': 'Schmeler',\n",
      "  'Pet_Type': 'bird',\n",
      "  '_id': ObjectId('64eec90ddf0c010319a01281')},\n",
      " {'2021_Total_Spend': 362.25,\n",
      "  '2021_Visits': 21,\n",
      "  'Customer_First': 'Giselle',\n",
      "  'Customer_Last': 'Lesch',\n",
      "  'Pet_Type': 'dog',\n",
      "  '_id': ObjectId('64eec90ddf0c010319a012cf')},\n",
      " {'2021_Total_Spend': 362.25,\n",
      "  '2021_Visits': 21,\n",
      "  'Customer_First': 'Lance',\n",
      "  'Customer_Last': 'Hamill',\n",
      "  'Pet_Type': 'cat',\n",
      "  '_id': ObjectId('64eec90ddf0c010319a0127e')},\n",
      " {'2021_Total_Spend': 362.25,\n",
      "  '2021_Visits': 21,\n",
      "  'Customer_First': 'Cathryn',\n",
      "  'Customer_Last': 'Dickinson',\n",
      "  'Pet_Type': 'cat',\n",
      "  '_id': ObjectId('64eec90ddf0c010319a012b3')},\n",
      " {'2021_Total_Spend': 379.5,\n",
      "  '2021_Visits': 22,\n",
      "  'Customer_First': 'Jeanetta',\n",
      "  'Customer_Last': 'Bednar',\n",
      "  'Pet_Type': 'dog',\n",
      "  '_id': ObjectId('64eec90ddf0c010319a011e1')},\n",
      " {'2021_Total_Spend': 396.75,\n",
      "  '2021_Visits': 23,\n",
      "  'Customer_First': 'Paxton',\n",
      "  'Customer_Last': 'Franecki',\n",
      "  'Pet_Type': 'fish',\n",
      "  '_id': ObjectId('64eec90ddf0c010319a01205')},\n",
      " {'2021_Total_Spend': 414.0,\n",
      "  '2021_Visits': 24,\n",
      "  'Customer_First': 'Corene',\n",
      "  'Customer_Last': 'Effertz',\n",
      "  'Pet_Type': 'dog',\n",
      "  '_id': ObjectId('64eec90ddf0c010319a012cc')},\n",
      " {'2021_Total_Spend': 431.25,\n",
      "  '2021_Visits': 25,\n",
      "  'Customer_First': 'Arden',\n",
      "  'Customer_Last': 'Becker',\n",
      "  'Pet_Type': 'bird',\n",
      "  '_id': ObjectId('64eec90ddf0c010319a012ae')}]\n"
     ]
    }
   ],
   "source": [
    "# Create a query that finds customers who spent less than $500 and had more than 20 visits in 2021\n",
    "q = {'2021_Total_Spend': {'$lt': 500}, '2021_Visits': {'$gt': 20}}\n",
    "\n",
    "# Remove the 'Address' and 'Email' fields from the results\n",
    "fields = {'Address': 0, 'Email': 0}\n",
    "\n",
    "# sort in ascending order by '2021_Visits', '2021_Total_Spend'\n",
    "sort = [('2021_Visits'), ('2021_Total_Spend')]\n",
    "\n",
    "# limit the results to the first 8\n",
    "limit = 8\n",
    "\n",
    "# Pretty print the results\n",
    "pprint(list(customers.find(q, fields).sort(sort).limit(limit)))"
   ]
  },
  {
   "cell_type": "code",
   "execution_count": null,
   "id": "2e9c75ee",
   "metadata": {},
   "outputs": [],
   "source": []
  }
 ],
 "metadata": {
  "kernelspec": {
   "display_name": "Python 3 (ipykernel)",
   "language": "python",
   "name": "python3"
  },
  "language_info": {
   "codemirror_mode": {
    "name": "ipython",
    "version": 3
   },
   "file_extension": ".py",
   "mimetype": "text/x-python",
   "name": "python",
   "nbconvert_exporter": "python",
   "pygments_lexer": "ipython3",
   "version": "3.10.11"
  }
 },
 "nbformat": 4,
 "nbformat_minor": 5
}
