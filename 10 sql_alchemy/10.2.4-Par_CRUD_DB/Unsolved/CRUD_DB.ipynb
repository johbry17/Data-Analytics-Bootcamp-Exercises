{
 "cells": [
  {
   "cell_type": "code",
   "execution_count": 1,
   "metadata": {},
   "outputs": [],
   "source": [
    "import os\n",
    "if os.path.exists('travel_tmp.sqlite'):\n",
    "    os.remove('travel_tmp.sqlite')\n",
    "else:\n",
    "    pass"
   ]
  },
  {
   "cell_type": "code",
   "execution_count": 2,
   "metadata": {},
   "outputs": [],
   "source": [
    "# Import SQL Alchemy\n",
    "from sqlalchemy import create_engine, func\n",
    "\n",
    "# Import and establish Base for which classes will be constructed \n",
    "from sqlalchemy.orm import declarative_base, Session\n",
    "Base = declarative_base()\n",
    "\n",
    "# Import modules to declare columns and column data types\n",
    "from sqlalchemy import Column, Integer, String, Float, Boolean"
   ]
  },
  {
   "cell_type": "code",
   "execution_count": 3,
   "metadata": {
    "nbgrader": {
     "grade": false,
     "grade_id": "cell-55d75c21dbb2c337",
     "locked": false,
     "schema_version": 1,
     "solution": true
    }
   },
   "outputs": [],
   "source": [
    "# Create the Travel class\n",
    "class Travel(Base):\n",
    "    __tablename__ = 'travel_destinations'\n",
    "    id = Column(Integer, primary_key=True)\n",
    "    city = Column(String)\n",
    "    country = Column(String)\n",
    "    distance = Column(Float)\n",
    "    budget = Column(Float)\n",
    "    visited = Column(Boolean)\n"
   ]
  },
  {
   "cell_type": "code",
   "execution_count": 4,
   "metadata": {
    "nbgrader": {
     "grade": false,
     "grade_id": "cell-4230ec6995aad3fd",
     "locked": false,
     "schema_version": 1,
     "solution": true
    }
   },
   "outputs": [],
   "source": [
    "# Create a connection to a SQLite database\n",
    "engine = create_engine('sqlite:///travel_tmp.sqlite')"
   ]
  },
  {
   "cell_type": "code",
   "execution_count": 5,
   "metadata": {},
   "outputs": [],
   "source": [
    "# Create the travel_destinations table within the database\n",
    "Base.metadata.create_all(engine)"
   ]
  },
  {
   "cell_type": "code",
   "execution_count": 6,
   "metadata": {},
   "outputs": [],
   "source": [
    "# To push the objects made and query the server we use a Session object\n",
    "s = Session(bind=engine)"
   ]
  },
  {
   "cell_type": "code",
   "execution_count": 7,
   "metadata": {
    "nbgrader": {
     "grade": false,
     "grade_id": "cell-544743e14f0f9a25",
     "locked": false,
     "schema_version": 1,
     "solution": true
    }
   },
   "outputs": [],
   "source": [
    "# Create some instances of the Travel class\n",
    "# Add these objects to the session\n",
    "# Commit the objects to the database\n",
    "s.add_all([\n",
    "    Travel(city='Ubud', country='Indonesia', distance=10200.0, budget=4000.0, visited=True),\n",
    "    Travel(city='Swakopmund', country='Namibia', distance=7200.0, budget=5000.0, visited=True),\n",
    "    Travel(city='Ollantaytambo', country='Peru', distance=3600.0, budget=3000.0, visited=True),\n",
    "    Travel(city='Maastricht', country='Netherlands', distance=3900.0, budget=4000.0, visited=True),\n",
    "    Travel(city='Burlington', country='USA', distance=600.0, budget=200.0, visited=True)\n",
    "])\n",
    "s.commit()"
   ]
  },
  {
   "cell_type": "code",
   "execution_count": 8,
   "metadata": {
    "nbgrader": {
     "grade": false,
     "grade_id": "cell-a66cda367a0b1515",
     "locked": false,
     "schema_version": 1,
     "solution": true
    }
   },
   "outputs": [],
   "source": [
    "# Update two rows of data\n",
    "bsq = s.query(Travel).filter_by(city='Burlington')\n",
    "bsq.distance = 500.0\n",
    "\n",
    "msq = s.query(Travel).filter_by(city='Maastricht')\n",
    "msq.budget = 4500.0\n",
    "\n",
    "# Commit the updates to the database\n",
    "s.commit()\n"
   ]
  },
  {
   "cell_type": "code",
   "execution_count": 9,
   "metadata": {
    "nbgrader": {
     "grade": false,
     "grade_id": "cell-2cee82afd03d3679",
     "locked": false,
     "schema_version": 1,
     "solution": true
    }
   },
   "outputs": [],
   "source": [
    "# Delete the row with the shortest distance\n",
    "# take the .first() one to delete, which will be the shortest distance\n",
    "axed = s.query(Travel).order_by(Travel.distance).first()\n",
    "\n",
    "# Commit the delete to the database\n",
    "s.delete(axed)\n"
   ]
  },
  {
   "cell_type": "code",
   "execution_count": 10,
   "metadata": {
    "nbgrader": {
     "grade": false,
     "grade_id": "cell-23672c755f55dd5d",
     "locked": false,
     "schema_version": 1,
     "solution": true
    }
   },
   "outputs": [
    {
     "name": "stdout",
     "output_type": "stream",
     "text": [
      "1, Ubud, Indonesia, 10200.0, 4000.0, True\n",
      "2, Swakopmund, Namibia, 7200.0, 5000.0, True\n",
      "3, Ollantaytambo, Peru, 3600.0, 3000.0, True\n",
      "4, Maastricht, Netherlands, 3900.0, 4000.0, True\n"
     ]
    }
   ],
   "source": [
    "# Collect all of the destinations and print their information\n",
    "sq = s.query(Travel).all()\n",
    "for _ in sq:\n",
    "    print(_.id, _.city, _.country, _.distance, _.budget, _.visited, sep=', ')\n"
   ]
  },
  {
   "cell_type": "code",
   "execution_count": 11,
   "metadata": {},
   "outputs": [],
   "source": [
    "# Close the session\n",
    "s.close()"
   ]
  },
  {
   "cell_type": "code",
   "execution_count": 12,
   "metadata": {},
   "outputs": [],
   "source": [
    "# BONUS\n",
    "# Use a SQLAlchemy function to identify the item with the lowest id value, and change its budget to $2,500.\n",
    "s = Session(bind=engine)\n",
    "\n",
    "# Get the lowest id. \n",
    "min = s.query(func.min(Travel.id)).scalar()\n"
   ]
  },
  {
   "cell_type": "code",
   "execution_count": 13,
   "metadata": {},
   "outputs": [
    {
     "name": "stdout",
     "output_type": "stream",
     "text": [
      "1\n"
     ]
    }
   ],
   "source": [
    "# Print the budget for the lowest id.\n",
    "print(min)"
   ]
  },
  {
   "cell_type": "code",
   "execution_count": 14,
   "metadata": {},
   "outputs": [
    {
     "data": {
      "text/plain": [
       "1"
      ]
     },
     "execution_count": 14,
     "metadata": {},
     "output_type": "execute_result"
    }
   ],
   "source": [
    "# Set the budget for the lowest id to 2500.\n",
    "s.query(Travel).filter(Travel.id == min).update({'budget': 2500.0})"
   ]
  },
  {
   "cell_type": "code",
   "execution_count": 15,
   "metadata": {},
   "outputs": [],
   "source": [
    "# Commit the updates to the database \n",
    "s.commit()"
   ]
  },
  {
   "cell_type": "code",
   "execution_count": 16,
   "metadata": {},
   "outputs": [
    {
     "name": "stdout",
     "output_type": "stream",
     "text": [
      "1, Ubud, Indonesia, 10200.0, 2500.0, True\n",
      "2, Swakopmund, Namibia, 7200.0, 5000.0, True\n",
      "3, Ollantaytambo, Peru, 3600.0, 3000.0, True\n",
      "4, Maastricht, Netherlands, 3900.0, 4000.0, True\n",
      "5, Burlington, USA, 600.0, 200.0, True\n"
     ]
    }
   ],
   "source": [
    "# Check that the budget has been updated.\n",
    "# Collect all of the destinations and print their information\n",
    "sq = s.query(Travel).all()\n",
    "for _ in sq:\n",
    "    print(_.id, _.city, _.country, _.distance, _.budget, _.visited, sep=', ')"
   ]
  },
  {
   "cell_type": "code",
   "execution_count": 17,
   "metadata": {},
   "outputs": [],
   "source": [
    "s.close()"
   ]
  },
  {
   "cell_type": "code",
   "execution_count": null,
   "metadata": {},
   "outputs": [],
   "source": []
  }
 ],
 "metadata": {
  "celltoolbar": "Create Assignment",
  "kernelspec": {
   "display_name": "Python 3 (ipykernel)",
   "language": "python",
   "name": "python3"
  },
  "language_info": {
   "codemirror_mode": {
    "name": "ipython",
    "version": 3
   },
   "file_extension": ".py",
   "mimetype": "text/x-python",
   "name": "python",
   "nbconvert_exporter": "python",
   "pygments_lexer": "ipython3",
   "version": "3.10.11"
  },
  "varInspector": {
   "cols": {
    "lenName": 16,
    "lenType": 16,
    "lenVar": 40
   },
   "kernels_config": {
    "python": {
     "delete_cmd_postfix": "",
     "delete_cmd_prefix": "del ",
     "library": "var_list.py",
     "varRefreshCmd": "print(var_dic_list())"
    },
    "r": {
     "delete_cmd_postfix": ") ",
     "delete_cmd_prefix": "rm(",
     "library": "var_list.r",
     "varRefreshCmd": "cat(var_dic_list()) "
    }
   },
   "types_to_exclude": [
    "module",
    "function",
    "builtin_function_or_method",
    "instance",
    "_Feature"
   ],
   "window_display": false
  }
 },
 "nbformat": 4,
 "nbformat_minor": 4
}
