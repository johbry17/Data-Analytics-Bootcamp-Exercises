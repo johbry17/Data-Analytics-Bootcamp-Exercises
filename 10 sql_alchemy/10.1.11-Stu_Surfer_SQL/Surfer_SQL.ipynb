{
 "cells": [
  {
   "cell_type": "code",
   "execution_count": 1,
   "metadata": {},
   "outputs": [],
   "source": [
    "# Import SQL Alchemy\n",
    "from sqlalchemy import create_engine, Column, Integer, String, ForeignKey"
   ]
  },
  {
   "cell_type": "code",
   "execution_count": 2,
   "metadata": {},
   "outputs": [],
   "source": [
    "# Import and establish Base for which classes will be constructed \n",
    "from sqlalchemy.orm import declarative_base, Session\n",
    "Base = declarative_base()"
   ]
  },
  {
   "cell_type": "code",
   "execution_count": 3,
   "metadata": {},
   "outputs": [],
   "source": [
    "# Create Surfer and Board classes\n",
    "# ----------------------------------\n",
    "# class Surfer(Base):\n",
    "class Surfer(Base):\n",
    "    __tablename__ = 'surfers'\n",
    "    id = Column(Integer, primary_key = True)\n",
    "    name = Column(String(255))\n",
    "    hometown = Column(String(255))\n",
    "    rank = Column(Integer)\n",
    "\n",
    "# class Board(Base):\n",
    "class Board(Base):\n",
    "    __tablename__ = 'surfboards'\n",
    "    id = Column(Integer, primary_key = True)\n",
    "    surfer_id = Column(Integer, ForeignKey('surfers.id'))\n",
    "    board_name = Column(String(255))\n",
    "    color = Column(String(255))\n",
    "    length = Column(Integer)\n",
    "    "
   ]
  },
  {
   "cell_type": "code",
   "execution_count": 4,
   "metadata": {},
   "outputs": [],
   "source": [
    "# Create specific instances of the Surfer and Board classes\n",
    "# ----------------------------------\n",
    "# Create a new surfer named \"Bruno\"\n",
    "surfer = Surfer(name='Bruno', hometown='LA', rank=10)\n",
    "\n",
    "# Create a new board and associate it with a surfer's ID\n",
    "board = Board(board_name='Something lame', color='70s avocado', length='90')\n"
   ]
  },
  {
   "cell_type": "code",
   "execution_count": 5,
   "metadata": {},
   "outputs": [],
   "source": [
    "# Create Database Connection\n",
    "# ----------------------------------\n",
    "# Establish Connection\n",
    "engine = create_engine('sqlite:///surfers.db')\n",
    "conn = engine.connect()"
   ]
  },
  {
   "cell_type": "code",
   "execution_count": 6,
   "metadata": {},
   "outputs": [],
   "source": [
    "# Create both the Surfer and Board tables within the database\n",
    "Base.metadata.create_all(engine)"
   ]
  },
  {
   "cell_type": "code",
   "execution_count": 7,
   "metadata": {},
   "outputs": [],
   "source": [
    "# To push the objects made and query the server we use a Session object\n",
    "s = Session(bind=engine)"
   ]
  },
  {
   "cell_type": "markdown",
   "metadata": {},
   "source": [
    "I'm only getting a one-to-one surfer-board connection here. Will need to learn more later"
   ]
  },
  {
   "cell_type": "code",
   "execution_count": 8,
   "metadata": {},
   "outputs": [],
   "source": [
    "# Add \"Bruno\" to the current session\n",
    "s.add_all([surfer, board])\n",
    "\n",
    "# Add \"Awwwyeah\" to the current session\n",
    "#board = Board(board_name='Awwwyeah', color='Ninja turtle', length='42')\n",
    "#s.add(board)\n",
    "\n",
    "\n",
    "# Commit both objects to the database\n",
    "s.commit()\n",
    "\n",
    "board.surfer_id = surfer.id\n",
    "s.commit()"
   ]
  },
  {
   "cell_type": "code",
   "execution_count": 9,
   "metadata": {},
   "outputs": [
    {
     "name": "stdout",
     "output_type": "stream",
     "text": [
      "Name: Bruno, Hometown: LA, Rank: 10\n",
      "1\n",
      "Board name: Something lame, Board color: 70s avocado, Length: 90\n",
      "\n"
     ]
    }
   ],
   "source": [
    "# Query the database and collect all of the surfers in the Surfer table\n",
    "sq = s.query(Surfer).all()\n",
    "for surfer in sq:\n",
    "    print(f'Name: {surfer.name}, Hometown: {surfer.hometown}, Rank: {surfer.rank}')\n",
    "    \n",
    "    b = s.query(Board).filter_by(surfer_id=surfer.id).all()\n",
    "    print(len(b))\n",
    "    for row in b:\n",
    "        print(f'Board name: {row.board_name}, Board color: {row.color}, Length: {row.length}')\n",
    "        print()"
   ]
  },
  {
   "cell_type": "code",
   "execution_count": 10,
   "metadata": {},
   "outputs": [],
   "source": [
    "# Use this to clear out the db\n",
    "Base.metadata.drop_all(engine)"
   ]
  },
  {
   "cell_type": "code",
   "execution_count": null,
   "metadata": {},
   "outputs": [],
   "source": []
  }
 ],
 "metadata": {
  "kernelspec": {
   "display_name": "Python 3 (ipykernel)",
   "language": "python",
   "name": "python3"
  },
  "language_info": {
   "codemirror_mode": {
    "name": "ipython",
    "version": 3
   },
   "file_extension": ".py",
   "mimetype": "text/x-python",
   "name": "python",
   "nbconvert_exporter": "python",
   "pygments_lexer": "ipython3",
   "version": "3.10.11"
  },
  "varInspector": {
   "cols": {
    "lenName": 16,
    "lenType": 16,
    "lenVar": 40
   },
   "kernels_config": {
    "python": {
     "delete_cmd_postfix": "",
     "delete_cmd_prefix": "del ",
     "library": "var_list.py",
     "varRefreshCmd": "print(var_dic_list())"
    },
    "r": {
     "delete_cmd_postfix": ") ",
     "delete_cmd_prefix": "rm(",
     "library": "var_list.r",
     "varRefreshCmd": "cat(var_dic_list()) "
    }
   },
   "types_to_exclude": [
    "module",
    "function",
    "builtin_function_or_method",
    "instance",
    "_Feature"
   ],
   "window_display": false
  }
 },
 "nbformat": 4,
 "nbformat_minor": 2
}
