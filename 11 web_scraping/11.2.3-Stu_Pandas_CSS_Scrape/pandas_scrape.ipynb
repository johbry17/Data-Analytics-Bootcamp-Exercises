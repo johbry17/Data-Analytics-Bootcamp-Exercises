{
 "cells": [
  {
   "cell_type": "code",
   "execution_count": 1,
   "metadata": {},
   "outputs": [],
   "source": [
    "from bs4 import BeautifulSoup"
   ]
  },
  {
   "cell_type": "code",
   "execution_count": 2,
   "metadata": {},
   "outputs": [],
   "source": [
    "html = \"\"\"\n",
    "<!DOCTYPE html>\n",
    "<html lang=\"en\">\n",
    "\n",
    "<head>\n",
    "    <meta charset=\"UTF-8\">\n",
    "    <meta http-equiv=\"X-UA-Compatible\" content=\"IE=edge\">\n",
    "    <meta name=\"viewport\" content=\"width=device-width, initial-scale=1.0\">\n",
    "    <title>Document</title>\n",
    "</head>\n",
    "\n",
    "<body>\n",
    "    <h1>pandas</h1>\n",
    "    <blockquote>pandas is a powerful Python data analysis library. </blockquote>\n",
    "\n",
    "    <div id=\"start\" class=\"section\">\n",
    "        <h3 class=\"section-header\">Getting Started</h3>\n",
    "        <ul class=\"pandas-ul\">\n",
    "            <a href=\"https://pandas.pydata.org/getting_started.html\">\n",
    "                <li>Install pandas</li>\n",
    "            </a>\n",
    "            <a href=\"https://pandas.pydata.org/docs/getting_started/index.html\">\n",
    "                <li>Getting started</li>\n",
    "            </a>\n",
    "        </ul>\n",
    "    </div>\n",
    "\n",
    "    <div id=\"documentation\" class=\"section\">\n",
    "        <h3 class=\"section-header\">Documentation</h3>\n",
    "        <ul class=\"pandas-ul\">\n",
    "            <a href=\"https://pandas.pydata.org/docs/user_guide/index.html\">\n",
    "                <li>User guide</li>\n",
    "            </a>\n",
    "            <a href=\"https://pandas.pydata.org/docs/reference/index.html\">\n",
    "                <li>API reference</li>\n",
    "            </a>\n",
    "            <a href=\"https://pandas.pydata.org/docs/development/index.html\">\n",
    "                <li>How to contribute to pandas</li>\n",
    "            </a>\n",
    "        </ul>\n",
    "    </div>\n",
    "\n",
    "    <div id=\"community\" class=\"section\">\n",
    "        <h3 class=\"section-header\">The pandas Community</h3>\n",
    "        <ul class=\"pandas-ul\">\n",
    "            <a href=\"https://pandas.pydata.org/about/index.html\">\n",
    "                <li>More about pandas</li>\n",
    "            </a>\n",
    "            <a href=\"https://stackoverflow.com/questions/tagged/pandas\">\n",
    "                <li>Have questions?</li>\n",
    "            </a>\n",
    "            <a href=\"https://pandas.pydata.org/community/ecosystem.html\">\n",
    "                <li>The pandas ecosystem</li>\n",
    "            </a>\n",
    "        </ul>\n",
    "    </div>\n",
    "</body>\n",
    "\n",
    "</html>\n",
    "\"\"\""
   ]
  },
  {
   "cell_type": "code",
   "execution_count": 3,
   "metadata": {},
   "outputs": [],
   "source": [
    "soup = BeautifulSoup(html, 'html.parser')"
   ]
  },
  {
   "cell_type": "code",
   "execution_count": 4,
   "metadata": {},
   "outputs": [
    {
     "data": {
      "text/plain": [
       "[<h3 class=\"section-header\">Getting Started</h3>,\n",
       " <h3 class=\"section-header\">Documentation</h3>,\n",
       " <h3 class=\"section-header\">The pandas Community</h3>]"
      ]
     },
     "execution_count": 4,
     "metadata": {},
     "output_type": "execute_result"
    }
   ],
   "source": [
    "soup.find_all(\"h3\")"
   ]
  },
  {
   "cell_type": "code",
   "execution_count": 5,
   "metadata": {},
   "outputs": [
    {
     "name": "stdout",
     "output_type": "stream",
     "text": [
      "Getting Started\n",
      "Documentation\n",
      "The pandas Community\n"
     ]
    }
   ],
   "source": [
    "for _ in (soup.find_all('h3')):\n",
    "    print(_.text)"
   ]
  },
  {
   "cell_type": "code",
   "execution_count": 6,
   "metadata": {},
   "outputs": [
    {
     "data": {
      "text/plain": [
       "<div class=\"section\" id=\"start\">\n",
       "<h3 class=\"section-header\">Getting Started</h3>\n",
       "<ul class=\"pandas-ul\">\n",
       "<a href=\"https://pandas.pydata.org/getting_started.html\">\n",
       "<li>Install pandas</li>\n",
       "</a>\n",
       "<a href=\"https://pandas.pydata.org/docs/getting_started/index.html\">\n",
       "<li>Getting started</li>\n",
       "</a>\n",
       "</ul>\n",
       "</div>"
      ]
     },
     "execution_count": 6,
     "metadata": {},
     "output_type": "execute_result"
    }
   ],
   "source": [
    "# Start section\n",
    "soup.find(id='start')"
   ]
  },
  {
   "cell_type": "code",
   "execution_count": 7,
   "metadata": {},
   "outputs": [
    {
     "data": {
      "text/plain": [
       "'Getting Started'"
      ]
     },
     "execution_count": 7,
     "metadata": {},
     "output_type": "execute_result"
    }
   ],
   "source": [
    "soup.find(id='start').find('h3').text"
   ]
  },
  {
   "cell_type": "code",
   "execution_count": 8,
   "metadata": {},
   "outputs": [
    {
     "data": {
      "text/plain": [
       "[<a href=\"https://pandas.pydata.org/getting_started.html\">\n",
       " <li>Install pandas</li>\n",
       " </a>,\n",
       " <a href=\"https://pandas.pydata.org/docs/getting_started/index.html\">\n",
       " <li>Getting started</li>\n",
       " </a>]"
      ]
     },
     "execution_count": 8,
     "metadata": {},
     "output_type": "execute_result"
    }
   ],
   "source": [
    "soup.find(id='start').find_all('a')"
   ]
  },
  {
   "cell_type": "code",
   "execution_count": 9,
   "metadata": {},
   "outputs": [
    {
     "name": "stdout",
     "output_type": "stream",
     "text": [
      "https://pandas.pydata.org/getting_started.html\n",
      "https://pandas.pydata.org/docs/getting_started/index.html\n"
     ]
    }
   ],
   "source": [
    "for _ in (soup.find(id='start').find_all('a')):\n",
    "    print(_['href'])\n"
   ]
  },
  {
   "cell_type": "code",
   "execution_count": 10,
   "metadata": {},
   "outputs": [
    {
     "name": "stdout",
     "output_type": "stream",
     "text": [
      "https://pandas.pydata.org/getting_started.html\n",
      "https://pandas.pydata.org/docs/getting_started/index.html\n",
      "https://pandas.pydata.org/docs/user_guide/index.html\n",
      "https://pandas.pydata.org/docs/reference/index.html\n",
      "https://pandas.pydata.org/docs/development/index.html\n",
      "https://pandas.pydata.org/about/index.html\n",
      "https://stackoverflow.com/questions/tagged/pandas\n",
      "https://pandas.pydata.org/community/ecosystem.html\n"
     ]
    }
   ],
   "source": [
    "for _ in (soup.find_all('a')):\n",
    "    print(_['href'])"
   ]
  },
  {
   "cell_type": "code",
   "execution_count": 11,
   "metadata": {},
   "outputs": [
    {
     "name": "stdout",
     "output_type": "stream",
     "text": [
      "Getting Started\n",
      "https://pandas.pydata.org/getting_started.html\n",
      "https://pandas.pydata.org/docs/getting_started/index.html\n",
      "Documentation\n",
      "https://pandas.pydata.org/docs/user_guide/index.html\n",
      "https://pandas.pydata.org/docs/reference/index.html\n",
      "https://pandas.pydata.org/docs/development/index.html\n",
      "The pandas Community\n",
      "https://pandas.pydata.org/about/index.html\n",
      "https://stackoverflow.com/questions/tagged/pandas\n",
      "https://pandas.pydata.org/community/ecosystem.html\n"
     ]
    }
   ],
   "source": [
    "# BONUS: Compile a dictionary of titles and URLs\n",
    "pandas_info_dict = {}\n",
    "\n",
    "rows = soup.find_all('div', class_='section')\n",
    "\n",
    "for _ in rows:\n",
    "    title = _.find('h3', class_='section-header').text\n",
    "    links = [a['href'] for a in _.find_all('a')]\n",
    "    pandas_info_dict[title] = links\n",
    "\n",
    "# Using a for-loop  \n",
    "for title, links in pandas_info_dict.items():\n",
    "    print(f\"{title}\")\n",
    "    for link in links:\n",
    "        print(f\"{link}\")"
   ]
  },
  {
   "cell_type": "code",
   "execution_count": null,
   "metadata": {},
   "outputs": [],
   "source": []
  }
 ],
 "metadata": {
  "kernelspec": {
   "display_name": "Python 3 (ipykernel)",
   "language": "python",
   "name": "python3"
  },
  "language_info": {
   "codemirror_mode": {
    "name": "ipython",
    "version": 3
   },
   "file_extension": ".py",
   "mimetype": "text/x-python",
   "name": "python",
   "nbconvert_exporter": "python",
   "pygments_lexer": "ipython3",
   "version": "3.10.11"
  }
 },
 "nbformat": 4,
 "nbformat_minor": 4
}
