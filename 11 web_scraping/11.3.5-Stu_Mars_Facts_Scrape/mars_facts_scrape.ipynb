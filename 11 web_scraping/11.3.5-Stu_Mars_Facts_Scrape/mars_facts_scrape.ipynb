{
 "cells": [
  {
   "attachments": {},
   "cell_type": "markdown",
   "metadata": {},
   "source": [
    "# Mars Facts Scrape"
   ]
  },
  {
   "cell_type": "code",
   "execution_count": 1,
   "metadata": {},
   "outputs": [],
   "source": [
    "from splinter import Browser\n",
    "from bs4 import BeautifulSoup\n",
    "from webdriver_manager.chrome import ChromeDriverManager"
   ]
  },
  {
   "cell_type": "code",
   "execution_count": 2,
   "metadata": {},
   "outputs": [],
   "source": [
    "# Set up Splinter\n",
    "executable_path = {'executable_path': ChromeDriverManager().install()}\n",
    "browser = Browser('chrome', **executable_path, headless=False)"
   ]
  },
  {
   "cell_type": "code",
   "execution_count": 3,
   "metadata": {},
   "outputs": [],
   "source": [
    "# Visit the Mars Facts site\n",
    "url = 'https://static.bc-edx.com/data/web/mars_facts/index.html'\n",
    "browser.visit(url)"
   ]
  },
  {
   "cell_type": "code",
   "execution_count": 4,
   "metadata": {},
   "outputs": [],
   "source": [
    "# Parse the website\n",
    "html = browser.html\n",
    "soup = BeautifulSoup(html, 'html.parser')"
   ]
  },
  {
   "cell_type": "code",
   "execution_count": 5,
   "metadata": {},
   "outputs": [
    {
     "data": {
      "text/plain": [
       "<table class=\"table table-striped\">\n",
       "<tbody>\n",
       "<tr>\n",
       "<th scope=\"row\">Equatorial Diameter:</th>\n",
       "<td>6,792 km</td>\n",
       "</tr>\n",
       "<tr>\n",
       "<th scope=\"row\">Polar Diameter:</th>\n",
       "<td>6,752 km</td>\n",
       "</tr>\n",
       "<tr>\n",
       "<th scope=\"row\">Mass:</th>\n",
       "<td>\t6.39 × 10^23 kg (0.11 Earths)</td>\n",
       "</tr>\n",
       "<tr>\n",
       "<th scope=\"row\">Moons:</th>\n",
       "<td>\t2 (<span class=\"red\">Phobos </span> &amp; <span class=\"red\"> Deimos</span>)</td>\n",
       "</tr>\n",
       "<tr>\n",
       "<th scope=\"row\">Orbit Distance:</th>\n",
       "<td>\t227,943,824 km (1.38 AU)</td>\n",
       "</tr>\n",
       "<tr>\n",
       "<th scope=\"row\">Orbit Period:</th>\n",
       "<td>\t687 days (1.9 years)</td>\n",
       "</tr>\n",
       "<tr>\n",
       "<th scope=\"row\">Surface Temperature:</th>\n",
       "<td>\t-87 to -5 °C</td>\n",
       "</tr>\n",
       "<tr>\n",
       "<th scope=\"row\">First Record:</th>\n",
       "<td>\t2nd millennium BC</td>\n",
       "</tr>\n",
       "<tr>\n",
       "<th scope=\"row\">Recorded By:</th>\n",
       "<td>\tEgyptian astronomers</td>\n",
       "</tr>\n",
       "</tbody>\n",
       "</table>"
      ]
     },
     "execution_count": 5,
     "metadata": {},
     "output_type": "execute_result"
    }
   ],
   "source": [
    "# Find the table\n",
    "t = soup.find('table', class_=\"table table-striped\")\n",
    "t"
   ]
  },
  {
   "cell_type": "code",
   "execution_count": 6,
   "metadata": {},
   "outputs": [],
   "source": [
    "# Store the table\n",
    "rows = t.find_all('tr')\n",
    "\n",
    "mars = {}\n",
    "\n",
    "# Loop through the rows\n",
    "for _ in rows:\n",
    "    h = _.find('th').text\n",
    "    d = _.find('td').text\n",
    "    thing = {h, d}\n",
    "    mars[h] = d\n"
   ]
  },
  {
   "cell_type": "code",
   "execution_count": 7,
   "metadata": {},
   "outputs": [
    {
     "data": {
      "text/plain": [
       "{'Equatorial Diameter:': '6,792 km',\n",
       " 'Polar Diameter:': '6,752 km',\n",
       " 'Mass:': '\\t6.39 × 10^23 kg (0.11 Earths)',\n",
       " 'Moons:': '\\t2 (Phobos  &  Deimos)',\n",
       " 'Orbit Distance:': '\\t227,943,824 km (1.38 AU)',\n",
       " 'Orbit Period:': '\\t687 days (1.9 years)',\n",
       " 'Surface Temperature:': '\\t-87 to -5 °C',\n",
       " 'First Record:': '\\t2nd millennium BC',\n",
       " 'Recorded By:': '\\tEgyptian astronomers'}"
      ]
     },
     "execution_count": 7,
     "metadata": {},
     "output_type": "execute_result"
    }
   ],
   "source": [
    "# Display the scraped table dictionary\n",
    "mars"
   ]
  },
  {
   "cell_type": "code",
   "execution_count": 8,
   "metadata": {},
   "outputs": [],
   "source": [
    "# Quit the browsing session\n",
    "browser.quit()"
   ]
  },
  {
   "cell_type": "code",
   "execution_count": null,
   "metadata": {},
   "outputs": [],
   "source": []
  }
 ],
 "metadata": {
  "kernelspec": {
   "display_name": "Python 3 (ipykernel)",
   "language": "python",
   "name": "python3"
  },
  "language_info": {
   "codemirror_mode": {
    "name": "ipython",
    "version": 3
   },
   "file_extension": ".py",
   "mimetype": "text/x-python",
   "name": "python",
   "nbconvert_exporter": "python",
   "pygments_lexer": "ipython3",
   "version": "3.10.11"
  },
  "vscode": {
   "interpreter": {
    "hash": "31f2aee4e71d21fbe5cf8b01ff0e069b9275f58929596ceb00d14d90e3e16cd6"
   }
  }
 },
 "nbformat": 4,
 "nbformat_minor": 4
}
