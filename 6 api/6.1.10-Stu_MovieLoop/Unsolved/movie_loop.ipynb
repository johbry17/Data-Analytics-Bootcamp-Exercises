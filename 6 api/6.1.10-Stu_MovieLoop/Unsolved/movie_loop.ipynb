{
 "cells": [
  {
   "cell_type": "code",
   "execution_count": 4,
   "metadata": {},
   "outputs": [
    {
     "name": "stdout",
     "output_type": "stream",
     "text": [
      "The director of Aliens is James Cameron\n",
      "The director of Sing is Garth Jennings, Christophe Lourdelet\n",
      "The director of Moana is Ron Clements, John Musker, Don Hall\n"
     ]
    }
   ],
   "source": [
    "# Dependencies\n",
    "import requests\n",
    "from config import api_key\n",
    "from pprint import pprint\n",
    "\n",
    "url = \"http://www.omdbapi.com/?apikey=\" + api_key + \"&t=\"\n",
    "\n",
    "movies = [\"Aliens\", \"Sing\", \"Moana\"]\n",
    "results = []\n",
    "\n",
    "# Make a request to the OMDb API for each movie in the list.\n",
    "for movie in movies:\n",
    "    _ = requests.get(f'{url}{movie}')\n",
    "    x = _.json()\n",
    "    # Print the director of each movie\n",
    "    print(f'The director of {movie} is {x[\"Director\"]}')\n",
    "    # Save the responses in another list\n",
    "    results.append(x)   "
   ]
  },
  {
   "cell_type": "code",
   "execution_count": 5,
   "metadata": {},
   "outputs": [
    {
     "name": "stdout",
     "output_type": "stream",
     "text": [
      "[{'Actors': 'Sigourney Weaver, Michael Biehn, Carrie Henn',\n",
      "  'Awards': 'Won 2 Oscars. 20 wins & 23 nominations total',\n",
      "  'BoxOffice': '$85,160,248',\n",
      "  'Country': 'United Kingdom, United States',\n",
      "  'DVD': '01 Jun 1999',\n",
      "  'Director': 'James Cameron',\n",
      "  'Genre': 'Action, Adventure, Sci-Fi',\n",
      "  'Language': 'English, Spanish',\n",
      "  'Metascore': '84',\n",
      "  'Plot': 'Decades after surviving the Nostromo incident, Ellen Ripley is sent '\n",
      "          'out to re-establish contact with a terraforming colony but finds '\n",
      "          'herself battling the Alien Queen and her offspring.',\n",
      "  'Poster': 'https://m.media-amazon.com/images/M/MV5BZTM1Nzk5ZTItN2ZkNi00MDRjLWIwYWUtOWY4ZjZmZjkyM2I0XkEyXkFqcGdeQXVyNTU1NTcwOTk@._V1_SX300.jpg',\n",
      "  'Production': 'N/A',\n",
      "  'Rated': 'R',\n",
      "  'Ratings': [{'Source': 'Internet Movie Database', 'Value': '8.4/10'},\n",
      "              {'Source': 'Rotten Tomatoes', 'Value': '98%'},\n",
      "              {'Source': 'Metacritic', 'Value': '84/100'}],\n",
      "  'Released': '18 Jul 1986',\n",
      "  'Response': 'True',\n",
      "  'Runtime': '137 min',\n",
      "  'Title': 'Aliens',\n",
      "  'Type': 'movie',\n",
      "  'Website': 'N/A',\n",
      "  'Writer': 'James Cameron, David Giler, Walter Hill',\n",
      "  'Year': '1986',\n",
      "  'imdbID': 'tt0090605',\n",
      "  'imdbRating': '8.4',\n",
      "  'imdbVotes': '735,496'},\n",
      " {'Actors': 'Matthew McConaughey, Reese Witherspoon, Seth MacFarlane',\n",
      "  'Awards': '3 wins & 25 nominations',\n",
      "  'BoxOffice': '$270,578,425',\n",
      "  'Country': 'Japan, United States, France',\n",
      "  'DVD': '18 Apr 2017',\n",
      "  'Director': 'Garth Jennings, Christophe Lourdelet',\n",
      "  'Genre': 'Animation, Comedy, Family',\n",
      "  'Language': 'English, Japanese',\n",
      "  'Metascore': '59',\n",
      "  'Plot': \"In a city of humanoid animals, a hustling theater impresario's \"\n",
      "          'attempt to save his theater with a singing competition becomes '\n",
      "          'grander than he anticipates even as its finalists find that their '\n",
      "          'lives will never be the same.',\n",
      "  'Poster': 'https://m.media-amazon.com/images/M/MV5BMTYzODYzODU2Ml5BMl5BanBnXkFtZTgwNTc1MTA2NzE@._V1_SX300.jpg',\n",
      "  'Production': 'N/A',\n",
      "  'Rated': 'PG',\n",
      "  'Ratings': [{'Source': 'Internet Movie Database', 'Value': '7.1/10'},\n",
      "              {'Source': 'Rotten Tomatoes', 'Value': '71%'},\n",
      "              {'Source': 'Metacritic', 'Value': '59/100'}],\n",
      "  'Released': '21 Dec 2016',\n",
      "  'Response': 'True',\n",
      "  'Runtime': '108 min',\n",
      "  'Title': 'Sing',\n",
      "  'Type': 'movie',\n",
      "  'Website': 'N/A',\n",
      "  'Writer': 'Garth Jennings',\n",
      "  'Year': '2016',\n",
      "  'imdbID': 'tt3470600',\n",
      "  'imdbRating': '7.1',\n",
      "  'imdbVotes': '179,832'},\n",
      " {'Actors': \"Auli'i Cravalho, Dwayne Johnson, Rachel House\",\n",
      "  'Awards': 'Nominated for 2 Oscars. 22 wins & 90 nominations total',\n",
      "  'BoxOffice': '$248,757,044',\n",
      "  'Country': 'United States',\n",
      "  'DVD': '07 Mar 2017',\n",
      "  'Director': 'Ron Clements, John Musker, Don Hall',\n",
      "  'Genre': 'Animation, Adventure, Comedy',\n",
      "  'Language': 'English, French',\n",
      "  'Metascore': '81',\n",
      "  'Plot': 'In Ancient Polynesia, when a terrible curse incurred by the Demigod '\n",
      "          \"Maui reaches Moana's island, she answers the Ocean's call to seek \"\n",
      "          'out the Demigod to set things right.',\n",
      "  'Poster': 'https://m.media-amazon.com/images/M/MV5BMjI4MzU5NTExNF5BMl5BanBnXkFtZTgwNzY1MTEwMDI@._V1_SX300.jpg',\n",
      "  'Production': 'N/A',\n",
      "  'Rated': 'PG',\n",
      "  'Ratings': [{'Source': 'Internet Movie Database', 'Value': '7.6/10'},\n",
      "              {'Source': 'Rotten Tomatoes', 'Value': '95%'},\n",
      "              {'Source': 'Metacritic', 'Value': '81/100'}],\n",
      "  'Released': '23 Nov 2016',\n",
      "  'Response': 'True',\n",
      "  'Runtime': '107 min',\n",
      "  'Title': 'Moana',\n",
      "  'Type': 'movie',\n",
      "  'Website': 'N/A',\n",
      "  'Writer': 'Jared Bush, Ron Clements, John Musker',\n",
      "  'Year': '2016',\n",
      "  'imdbID': 'tt3521164',\n",
      "  'imdbRating': '7.6',\n",
      "  'imdbVotes': '353,755'}]\n"
     ]
    }
   ],
   "source": [
    "# Print the responses\n",
    "pprint(results)"
   ]
  },
  {
   "cell_type": "code",
   "execution_count": null,
   "metadata": {},
   "outputs": [],
   "source": []
  }
 ],
 "metadata": {
  "kernelspec": {
   "display_name": "Python 3 (ipykernel)",
   "language": "python",
   "name": "python3"
  },
  "language_info": {
   "codemirror_mode": {
    "name": "ipython",
    "version": 3
   },
   "file_extension": ".py",
   "mimetype": "text/x-python",
   "name": "python",
   "nbconvert_exporter": "python",
   "pygments_lexer": "ipython3",
   "version": "3.10.11"
  },
  "varInspector": {
   "cols": {
    "lenName": 16,
    "lenType": 16,
    "lenVar": 40
   },
   "kernels_config": {
    "python": {
     "delete_cmd_postfix": "",
     "delete_cmd_prefix": "del ",
     "library": "var_list.py",
     "varRefreshCmd": "print(var_dic_list())"
    },
    "r": {
     "delete_cmd_postfix": ") ",
     "delete_cmd_prefix": "rm(",
     "library": "var_list.r",
     "varRefreshCmd": "cat(var_dic_list()) "
    }
   },
   "types_to_exclude": [
    "module",
    "function",
    "builtin_function_or_method",
    "instance",
    "_Feature"
   ],
   "window_display": false
  }
 },
 "nbformat": 4,
 "nbformat_minor": 2
}
