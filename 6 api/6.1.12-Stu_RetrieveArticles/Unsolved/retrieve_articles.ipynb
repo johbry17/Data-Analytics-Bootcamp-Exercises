{
 "cells": [
  {
   "cell_type": "code",
   "execution_count": 1,
   "metadata": {},
   "outputs": [],
   "source": [
    "# Dependencies\n",
    "import requests\n",
    "from config import api_key\n",
    "import time\n",
    "\n",
    "url = \"https://api.nytimes.com/svc/search/v2/articlesearch.json?\"\n",
    "\n",
    "# Store a search term\n",
    "search = 'dracula'\n",
    "\n",
    "# Search for articles published between a begin and end date\n",
    "begin = \"19800917\"\n",
    "end = \"20210917\"\n",
    "\n",
    "# Build URL\n",
    "url += f'q={search}&begin_date={begin}&end_date={end}&api-key={api_key}'"
   ]
  },
  {
   "cell_type": "code",
   "execution_count": 2,
   "metadata": {},
   "outputs": [],
   "source": [
    "# Retrieve articles\n",
    "_ = requests.get(url)\n",
    "x = _.json()\n"
   ]
  },
  {
   "cell_type": "code",
   "execution_count": 3,
   "metadata": {},
   "outputs": [
    {
     "name": "stdout",
     "output_type": "stream",
     "text": [
      "A snippet from the article: \n",
      "---------------------------\n",
      "A snippet from the article: A Persian-speaking, chador-wearing vampire is the main character in Ana Lily Amirpour’s “A Girl Walks Home Alone at Night.”\n",
      "---------------------------\n",
      "A snippet from the article: Dracula’s castle may sell for 60 million euros ($78 million) after the local government offered to buy the Transylvanian fortress to increase tourism revenue. The Brasov County Council in central Romania is in talks with a foreign bank on a 10-yea...\n",
      "---------------------------\n",
      "A snippet from the article: Bram Stoker found inspiration for his famous Gothic villain in an unlikely place — a sunny seaside Yorkshire village.\n",
      "---------------------------\n",
      "A snippet from the article: Count Dracula, the great-granddaddy of vampires, is poised for a comeback.\n",
      "---------------------------\n",
      "A snippet from the article: Mark Roxey, the artistic director of his ballet company in Lambertville, is offering a production of “Dracula” that puts the blood and fierce emotions back into the story.\n",
      "---------------------------\n",
      "A snippet from the article: One of the works on the program offered by BalletMet Columbus, which opened at the Joyce Theater on Tuesday, was Warren Adams’s “Audacious One,” widely promoted as a dance about Senator Barack Obama.\n",
      "---------------------------\n",
      "A snippet from the article: The network will produce a 10-hour adaptation of the classic Bram Stoker novel with Jonathan Rhys Meyers as the bloodthirsty count.\n",
      "---------------------------\n",
      "A snippet from the article: The reputation of the Ezzelini in the Veneto is somewhat on a par with that of Count Dracula's in Transylvania. Ezzelino III was variously described by the Vatican as \"a poisonous scorpion,\" \"the forerunner of the Antichrist,\" \"a\n",
      "---------------------------\n",
      "A snippet from the article: \n",
      "---------------------------\n"
     ]
    }
   ],
   "source": [
    "snippets = (y['snippet'] for y in x['response']['docs'])\n",
    "for snippet in snippets:\n",
    "    print(f'A snippet from the article: {snippet}')\n",
    "    print('---------------------------')"
   ]
  },
  {
   "cell_type": "code",
   "execution_count": 4,
   "metadata": {},
   "outputs": [
    {
     "name": "stdout",
     "output_type": "stream",
     "text": [
      "A snippet from the article: \n",
      "---------------------------\n",
      "A snippet from the article: A Persian-speaking, chador-wearing vampire is the main character in Ana Lily Amirpour’s “A Girl Walks Home Alone at Night.”\n",
      "---------------------------\n",
      "A snippet from the article: Dracula’s castle may sell for 60 million euros ($78 million) after the local government offered to buy the Transylvanian fortress to increase tourism revenue. The Brasov County Council in central Romania is in talks with a foreign bank on a 10-yea...\n",
      "---------------------------\n",
      "A snippet from the article: Bram Stoker found inspiration for his famous Gothic villain in an unlikely place — a sunny seaside Yorkshire village.\n",
      "---------------------------\n",
      "A snippet from the article: Count Dracula, the great-granddaddy of vampires, is poised for a comeback.\n",
      "---------------------------\n",
      "A snippet from the article: Mark Roxey, the artistic director of his ballet company in Lambertville, is offering a production of “Dracula” that puts the blood and fierce emotions back into the story.\n",
      "---------------------------\n",
      "A snippet from the article: One of the works on the program offered by BalletMet Columbus, which opened at the Joyce Theater on Tuesday, was Warren Adams’s “Audacious One,” widely promoted as a dance about Senator Barack Obama.\n",
      "---------------------------\n",
      "A snippet from the article: The network will produce a 10-hour adaptation of the classic Bram Stoker novel with Jonathan Rhys Meyers as the bloodthirsty count.\n",
      "---------------------------\n",
      "A snippet from the article: The reputation of the Ezzelini in the Veneto is somewhat on a par with that of Count Dracula's in Transylvania. Ezzelino III was variously described by the Vatican as \"a poisonous scorpion,\" \"the forerunner of the Antichrist,\" \"a\n",
      "---------------------------\n",
      "A snippet from the article: \n",
      "---------------------------\n",
      "A snippet from the article: Mike Rubin comment on work of director Guy Maddin, whose most recent film is Dracula: Pages From a Virgin's Diary; photos (M)\n",
      "---------------------------\n",
      "A snippet from the article: Kronos String Quartet, with Philip Glass on keyboards, will perform score, composed by Glass, to newly restored 1931 black-and-white film Dracula, starring Bela Lugosi, in Englewood, NJ (M)\n",
      "---------------------------\n",
      "A snippet from the article: \n",
      "---------------------------\n",
      "A snippet from the article: Bram Stoker found inspiration for his famous Gothic villain in an unlikely place — a sunny seaside Yorkshire village.\n",
      "---------------------------\n",
      "A snippet from the article: “Something in the Blood,” a biography by David J. Skal, links Bram Stoker’s classic creation to his own untapped desires.\n",
      "---------------------------\n",
      "A snippet from the article: Peter M Nichols reviews video recording of 1979 film Nosferatu the Vampyre; photo (M)\n",
      "---------------------------\n",
      "A snippet from the article: \n",
      "---------------------------\n",
      "A snippet from the article: \n",
      "---------------------------\n",
      "A snippet from the article: WHILE Bram Stoker's 1897 thriller \"Dracula\" put Transylvania on the map as the imaginative home of vampires, werewolves and cobweb-festooned castles that trap unwary visitors, Stoker himself never visited the region, relying instead on meticulous ...\n",
      "---------------------------\n",
      "A snippet from the article: \n",
      "---------------------------\n",
      "A snippet from the article: Just two of the phrases prompted by the Influenza A (H1N1) virus.\n",
      "---------------------------\n",
      "A snippet from the article: TRANSYLVANIAN \n",
      "\n",
      "Deviltry came to Town Hall Friday night when the Morse Mime Repertory Theater presented a mimetic version of ''Dracula,'' directed by Anastasia Nicole.\n",
      "\n",
      "The adaptation of Bram Stoker's novel got off to a truly eerie start. To storm...\n",
      "---------------------------\n",
      "A snippet from the article: A rarely heard Handel oratorio and a showing of “Dracula” with a score by Philip Glass are part of the Morgan Library & Museum’s 2014-15 season.\n",
      "---------------------------\n",
      "A snippet from the article: Just two of the phrases prompted by the Influenza A (H1N1) virus.\n",
      "---------------------------\n",
      "A snippet from the article: Profile of Bert Garskof, who will record his own radio adaptation of Bram Stoker's Dracula in front of live audience at Clarice L Buckman Theater at Quinnipiac University; photo (M)\n",
      "---------------------------\n",
      "A snippet from the article: Men get an edgy look from slim-cut suit and snappy dress shirt with dark flavor of Goth-rocker or Dracula; photos (M)\n",
      "---------------------------\n",
      "A snippet from the article: A small-time Romanian farmer counts powerful names among his backers in a land battle with a Canadian gold mining company.\n",
      "---------------------------\n",
      "A snippet from the article: \n",
      "---------------------------\n",
      "A snippet from the article: This witty but sensual fusion of silent film and ballet is a collaboration by Guy Maddin,  a Canadian experimental director, and the Royal Winnipeg Ballet performing a work, choreographed by Mark Godden, that had its  stage premiere in 1998.  The ...\n",
      "---------------------------\n",
      "A snippet from the article: Catherine Zuber, a costume designer, explains how Klimt, Botticelli and Fellini inspired her work on the Broadway production of \"Dracula, the Musical.\"\n",
      "---------------------------\n"
     ]
    }
   ],
   "source": [
    "# BONUS: How would we get 30 results? \n",
    "# HINT: Look up the page query param\n",
    "# Print article snippets\n",
    "\n",
    "for page in range(0, 3):\n",
    "    url_30 = f'{url}&page={page}'\n",
    "    _ = requests.get(url_30)\n",
    "    x = _.json()\n",
    "    snippets = (y['snippet'] for y in x['response']['docs'])\n",
    "    for snippet in snippets:\n",
    "        print(f'A snippet from the article: {snippet}')\n",
    "        print('---------------------------')"
   ]
  },
  {
   "cell_type": "code",
   "execution_count": null,
   "metadata": {},
   "outputs": [],
   "source": []
  }
 ],
 "metadata": {
  "kernelspec": {
   "display_name": "Python 3 (ipykernel)",
   "language": "python",
   "name": "python3"
  },
  "language_info": {
   "codemirror_mode": {
    "name": "ipython",
    "version": 3
   },
   "file_extension": ".py",
   "mimetype": "text/x-python",
   "name": "python",
   "nbconvert_exporter": "python",
   "pygments_lexer": "ipython3",
   "version": "3.10.11"
  },
  "varInspector": {
   "cols": {
    "lenName": 16,
    "lenType": 16,
    "lenVar": 40
   },
   "kernels_config": {
    "python": {
     "delete_cmd_postfix": "",
     "delete_cmd_prefix": "del ",
     "library": "var_list.py",
     "varRefreshCmd": "print(var_dic_list())"
    },
    "r": {
     "delete_cmd_postfix": ") ",
     "delete_cmd_prefix": "rm(",
     "library": "var_list.r",
     "varRefreshCmd": "cat(var_dic_list()) "
    }
   },
   "types_to_exclude": [
    "module",
    "function",
    "builtin_function_or_method",
    "instance",
    "_Feature"
   ],
   "window_display": false
  }
 },
 "nbformat": 4,
 "nbformat_minor": 2
}
