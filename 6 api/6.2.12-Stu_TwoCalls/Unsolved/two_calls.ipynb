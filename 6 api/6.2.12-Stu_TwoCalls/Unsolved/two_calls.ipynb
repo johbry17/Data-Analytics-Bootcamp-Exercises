{
 "cells": [
  {
   "cell_type": "code",
   "execution_count": 1,
   "metadata": {},
   "outputs": [],
   "source": [
    "# Dependencies\n",
    "import requests\n",
    "\n",
    "# url = \"http://api.worldbank.org/v2/\"\n",
    "# url += \"lendingtypes\"\n",
    "#url = \"https://search.worldbank.org/api/v2/wds?format=json&qterm=\"\n",
    "#url += 'lendingTypes'\n",
    "#print(url)"
   ]
  },
  {
   "cell_type": "code",
   "execution_count": 2,
   "metadata": {},
   "outputs": [],
   "source": [
    "url = \"http://api.worldbank.org/v2/lendingTypes?format=json\""
   ]
  },
  {
   "cell_type": "code",
   "execution_count": 3,
   "metadata": {},
   "outputs": [
    {
     "name": "stdout",
     "output_type": "stream",
     "text": [
      "[{'page': '1', 'pages': '1', 'per_page': '50', 'total': '4'},\n",
      " [{'id': 'IBD', 'iso2code': 'XF', 'value': 'IBRD'},\n",
      "  {'id': 'IDB', 'iso2code': 'XH', 'value': 'Blend'},\n",
      "  {'id': 'IDX', 'iso2code': 'XI', 'value': 'IDA'},\n",
      "  {'id': 'LNX', 'iso2code': 'XX', 'value': 'Not classified'}]]\n"
     ]
    }
   ],
   "source": [
    "# Get the list of lending types the world bank has\n",
    "_ = requests.get(url)\n",
    "x = _.json()\n",
    "from pprint import pprint\n",
    "pprint(x)"
   ]
  },
  {
   "cell_type": "code",
   "execution_count": 4,
   "metadata": {},
   "outputs": [
    {
     "name": "stdout",
     "output_type": "stream",
     "text": [
      "['IBD', 'IDB', 'IDX', 'LNX']\n"
     ]
    }
   ],
   "source": [
    "types = []\n",
    "for id in x[1]:\n",
    "    types.append(id['id'])\n",
    "print(types)"
   ]
  },
  {
   "cell_type": "code",
   "execution_count": 5,
   "metadata": {},
   "outputs": [
    {
     "data": {
      "text/plain": [
       "'\\nurl = \"https://search.worldbank.org/api/v2/wds?format=json&qterm=wind%20turbine&fl=docdt,count\"\\n_ = requests.get(url)\\nx = _.json()\\npprint(x)\\n'"
      ]
     },
     "execution_count": 5,
     "metadata": {},
     "output_type": "execute_result"
    }
   ],
   "source": [
    "'''\n",
    "url = \"https://search.worldbank.org/api/v2/wds?format=json&qterm=wind%20turbine&fl=docdt,count\"\n",
    "_ = requests.get(url)\n",
    "x = _.json()\n",
    "pprint(x)\n",
    "'''"
   ]
  },
  {
   "cell_type": "code",
   "execution_count": 6,
   "metadata": {},
   "outputs": [
    {
     "name": "stdout",
     "output_type": "stream",
     "text": [
      "{'IBD': 138, 'IDB': 30, 'IDX': 120, 'LNX': 74}\n"
     ]
    }
   ],
   "source": [
    "# Next, determine how many countries fall into each lending type.\n",
    "# Hint: Look at the first element of the response array.\n",
    "countries = {}\n",
    "for type in types:\n",
    "    url = f\"http://api.worldbank.org/v2/lendingTypes/{type}/countries?format=json\"\n",
    "    _ = requests.get(url)\n",
    "    x = _.json()\n",
    "    countries[type] = x[0]['total']\n",
    "print(countries)"
   ]
  },
  {
   "cell_type": "code",
   "execution_count": 7,
   "metadata": {},
   "outputs": [
    {
     "name": "stdout",
     "output_type": "stream",
     "text": [
      "{'IBD': 138, 'IDB': 30, 'IDX': 120, 'LNX': 74}\n"
     ]
    }
   ],
   "source": [
    "print(countries)"
   ]
  },
  {
   "cell_type": "code",
   "execution_count": 8,
   "metadata": {},
   "outputs": [
    {
     "name": "stdout",
     "output_type": "stream",
     "text": [
      "The number of countries with lending type IBD is 138.\n",
      "The number of countries with lending type IDB is 30.\n",
      "The number of countries with lending type IDX is 120.\n",
      "The number of countries with lending type LNX is 74.\n"
     ]
    },
    {
     "data": {
      "text/plain": [
       "'\\nfor key in countries:\\n    value = countries[key]\\n    print(f\"The number of countries with lending type {key} is {value}\")\\n'"
      ]
     },
     "execution_count": 8,
     "metadata": {},
     "output_type": "execute_result"
    }
   ],
   "source": [
    "# Print the number of countries of each lending type\n",
    "# Print the number of countries of each lending type\n",
    "for key, value in countries.items():\n",
    "    print(f'The number of countries with lending type {key} is {value}.')\n",
    "\n",
    "'''\n",
    "for key in countries:\n",
    "    value = countries[key]\n",
    "    print(f\"The number of countries with lending type {key} is {value}\")\n",
    "'''"
   ]
  }
 ],
 "metadata": {
  "kernelspec": {
   "display_name": "Python 3 (ipykernel)",
   "language": "python",
   "name": "python3"
  },
  "language_info": {
   "codemirror_mode": {
    "name": "ipython",
    "version": 3
   },
   "file_extension": ".py",
   "mimetype": "text/x-python",
   "name": "python",
   "nbconvert_exporter": "python",
   "pygments_lexer": "ipython3",
   "version": "3.10.11"
  },
  "varInspector": {
   "cols": {
    "lenName": 16,
    "lenType": 16,
    "lenVar": 40
   },
   "kernels_config": {
    "python": {
     "delete_cmd_postfix": "",
     "delete_cmd_prefix": "del ",
     "library": "var_list.py",
     "varRefreshCmd": "print(var_dic_list())"
    },
    "r": {
     "delete_cmd_postfix": ") ",
     "delete_cmd_prefix": "rm(",
     "library": "var_list.r",
     "varRefreshCmd": "cat(var_dic_list()) "
    }
   },
   "types_to_exclude": [
    "module",
    "function",
    "builtin_function_or_method",
    "instance",
    "_Feature"
   ],
   "window_display": false
  }
 },
 "nbformat": 4,
 "nbformat_minor": 2
}
