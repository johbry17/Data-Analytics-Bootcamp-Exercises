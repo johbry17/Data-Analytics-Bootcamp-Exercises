{
 "cells": [
  {
   "cell_type": "code",
   "execution_count": 12,
   "metadata": {},
   "outputs": [],
   "source": [
    "# Dependencies\n",
    "import requests\n",
    "import json"
   ]
  },
  {
   "cell_type": "code",
   "execution_count": 13,
   "metadata": {},
   "outputs": [
    {
     "name": "stdout",
     "output_type": "stream",
     "text": [
      "http://numbersapi.com/\n"
     ]
    }
   ],
   "source": [
    "# Base URL for GET requests to retrieve number/date facts\n",
    "url = 'http://numbersapi.com/'\n",
    "print(url)"
   ]
  },
  {
   "cell_type": "code",
   "execution_count": 14,
   "metadata": {
    "collapsed": true
   },
   "outputs": [
    {
     "name": "stdout",
     "output_type": "stream",
     "text": [
      "42 is the angle in degrees for which a rainbow appears or the critical angle.\n"
     ]
    }
   ],
   "source": [
    "# Ask the user what kind of data they would like to search for\n",
    "type = input(\"What type of data would you like to search for? [Trivia, Math, Date, or Year]\").lower()\n",
    "\n",
    "# Create code to return a number fact\n",
    "# If the kind of search is \"date\" take in two numbers\n",
    "if type == 'date':\n",
    "  # Collect the month to search for\n",
    "    month = input(\"What month (as int)? \")\n",
    "  # Collect the day to search for\n",
    "    day = input(\"What day (as int)? \")\n",
    "  # Make an API call to the \"date\" API and convert response object to JSON\n",
    "    y = f'{url}{month}/{day}?json'\n",
    "    _ = requests.get(y)\n",
    "    x = _.json()\n",
    "  # Print the fact stored within the response\n",
    "    print(x['text'])\n",
    "\n",
    "\n",
    "# If the kind of search is anything but \"date\" then take one number\n",
    "elif type in ('year', 'math', 'trivia'):\n",
    "  # Collect the number to search for\n",
    "    number = input(\"What number would you like to search for? \")\n",
    "    # Make an API call to the API and convert response object to JSON\n",
    "    y = f'{url}{number}/{type}?json'\n",
    "    _ = requests.get(y)\n",
    "    x = _.json()\n",
    "    # Print the fact stored within the response\n",
    "    print(x['text'])\n",
    "\n",
    "else:\n",
    "    print('Bad user')"
   ]
  },
  {
   "cell_type": "code",
   "execution_count": null,
   "metadata": {},
   "outputs": [],
   "source": []
  }
 ],
 "metadata": {
  "kernelspec": {
   "display_name": "Python 3 (ipykernel)",
   "language": "python",
   "name": "python3"
  },
  "language_info": {
   "codemirror_mode": {
    "name": "ipython",
    "version": 3
   },
   "file_extension": ".py",
   "mimetype": "text/x-python",
   "name": "python",
   "nbconvert_exporter": "python",
   "pygments_lexer": "ipython3",
   "version": "3.10.4"
  },
  "varInspector": {
   "cols": {
    "lenName": 16,
    "lenType": 16,
    "lenVar": 40
   },
   "kernels_config": {
    "python": {
     "delete_cmd_postfix": "",
     "delete_cmd_prefix": "del ",
     "library": "var_list.py",
     "varRefreshCmd": "print(var_dic_list())"
    },
    "r": {
     "delete_cmd_postfix": ") ",
     "delete_cmd_prefix": "rm(",
     "library": "var_list.r",
     "varRefreshCmd": "cat(var_dic_list()) "
    }
   },
   "types_to_exclude": [
    "module",
    "function",
    "builtin_function_or_method",
    "instance",
    "_Feature"
   ],
   "window_display": false
  }
 },
 "nbformat": 4,
 "nbformat_minor": 2
}
