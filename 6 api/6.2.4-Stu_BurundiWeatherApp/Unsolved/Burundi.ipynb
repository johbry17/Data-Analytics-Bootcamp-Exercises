{
 "cells": [
  {
   "cell_type": "code",
   "execution_count": 4,
   "metadata": {},
   "outputs": [],
   "source": [
    "# Dependencies\n",
    "import requests\n",
    "from config import api_key\n",
    "\n",
    "# Save config information.\n",
    "url = \"http://api.openweathermap.org/data/2.5/weather?\"\n",
    "city = \"Bujumbura\""
   ]
  },
  {
   "cell_type": "code",
   "execution_count": 5,
   "metadata": {},
   "outputs": [
    {
     "name": "stdout",
     "output_type": "stream",
     "text": [
      "http://api.openweathermap.org/data/2.5/weather?q=Bujumbura&appid=f8a2e676a744e9f3285ffd0712419e25&units=metric\n",
      "{'base': 'stations',\n",
      " 'clouds': {'all': 14},\n",
      " 'cod': 200,\n",
      " 'coord': {'lat': -3.3822, 'lon': 29.3644},\n",
      " 'dt': 1689485551,\n",
      " 'id': 425378,\n",
      " 'main': {'feels_like': 24.74,\n",
      "          'grnd_level': 929,\n",
      "          'humidity': 51,\n",
      "          'pressure': 1018,\n",
      "          'sea_level': 1018,\n",
      "          'temp': 24.87,\n",
      "          'temp_max': 24.87,\n",
      "          'temp_min': 24.87},\n",
      " 'name': 'Bujumbura',\n",
      " 'sys': {'country': 'BI', 'sunrise': 1689480605, 'sunset': 1689523596},\n",
      " 'timezone': 7200,\n",
      " 'visibility': 10000,\n",
      " 'weather': [{'description': 'few clouds',\n",
      "              'icon': '02d',\n",
      "              'id': 801,\n",
      "              'main': 'Clouds'}],\n",
      " 'wind': {'deg': 17, 'gust': 3.41, 'speed': 1.88}}\n"
     ]
    }
   ],
   "source": [
    "# Build query URL and request your results in Celsius\n",
    "# openWeatherMap default returns Kelvin units\n",
    "tmp_url = f\"{url}q={city}&appid={api_key}&units=metric\"\n",
    "print(tmp_url)\n",
    "\n",
    "# Get weather data\n",
    "_ = requests.get(tmp_url)\n",
    "tmp = _.json()\n",
    "from pprint import pprint\n",
    "pprint(tmp)"
   ]
  },
  {
   "cell_type": "code",
   "execution_count": 6,
   "metadata": {},
   "outputs": [
    {
     "name": "stdout",
     "output_type": "stream",
     "text": [
      "The Temperature in Bujumbura is 24.87 C.\n"
     ]
    }
   ],
   "source": [
    "# Get temperature from JSON response\n",
    "# Report temperature\n",
    "print(f\"The Temperature in {city} is {tmp['main']['temp']} C.\")"
   ]
  },
  {
   "cell_type": "code",
   "execution_count": 15,
   "metadata": {},
   "outputs": [
    {
     "name": "stdout",
     "output_type": "stream",
     "text": [
      "The temperature in Bujumbura is 24.87 metric\n",
      "The temperature in Bujumbura is 76.77 imperial\n"
     ]
    },
    {
     "data": {
      "text/plain": [
       "[None, None]"
      ]
     },
     "execution_count": 15,
     "metadata": {},
     "output_type": "execute_result"
    }
   ],
   "source": [
    "# BONUS\n",
    "\n",
    "# use list of units\n",
    "units = ['metric', 'imperial']\n",
    "\n",
    "# set up list to hold two different temperatures\n",
    "temps = []\n",
    "\n",
    "# loop through the list of units and append them to temperatures list\n",
    "for temp in units:\n",
    "    tmp_url = f\"{url}q={city}&appid={api_key}&units={temp}\"\n",
    "    # Build query URL based on current element in units\n",
    "\n",
    "\n",
    "    # Get weather data\n",
    "    _ = requests.get(tmp_url)\n",
    "    x = _.json()\n",
    "\n",
    "    # Get temperature from JSON response\n",
    "    temps.append(x['main']['temp'])\n",
    "\n",
    "\n",
    "\n",
    "# Report temperatures by accessing each element in the list\n",
    "# i really need to learn more about zip()\n",
    "[print(f'The temperature in {city} is {temp} {unit}') for temp, unit in zip(temps, units)]\n",
    "# \n"
   ]
  },
  {
   "cell_type": "code",
   "execution_count": null,
   "metadata": {},
   "outputs": [],
   "source": []
  }
 ],
 "metadata": {
  "kernelspec": {
   "display_name": "Python 3 (ipykernel)",
   "language": "python",
   "name": "python3"
  },
  "language_info": {
   "codemirror_mode": {
    "name": "ipython",
    "version": 3
   },
   "file_extension": ".py",
   "mimetype": "text/x-python",
   "name": "python",
   "nbconvert_exporter": "python",
   "pygments_lexer": "ipython3",
   "version": "3.10.11"
  },
  "varInspector": {
   "cols": {
    "lenName": 16,
    "lenType": 16,
    "lenVar": 40
   },
   "kernels_config": {
    "python": {
     "delete_cmd_postfix": "",
     "delete_cmd_prefix": "del ",
     "library": "var_list.py",
     "varRefreshCmd": "print(var_dic_list())"
    },
    "r": {
     "delete_cmd_postfix": ") ",
     "delete_cmd_prefix": "rm(",
     "library": "var_list.r",
     "varRefreshCmd": "cat(var_dic_list()) "
    }
   },
   "types_to_exclude": [
    "module",
    "function",
    "builtin_function_or_method",
    "instance",
    "_Feature"
   ],
   "window_display": false
  }
 },
 "nbformat": 4,
 "nbformat_minor": 2
}
