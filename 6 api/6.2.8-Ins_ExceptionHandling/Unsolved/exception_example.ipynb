{
 "cells": [
  {
   "cell_type": "code",
   "execution_count": 1,
   "metadata": {},
   "outputs": [
    {
     "ename": "KeyError",
     "evalue": "'Mary'",
     "output_type": "error",
     "traceback": [
      "\u001b[1;31m---------------------------------------------------------------------------\u001b[0m",
      "\u001b[1;31mKeyError\u001b[0m                                  Traceback (most recent call last)",
      "Cell \u001b[1;32mIn[1], line 8\u001b[0m\n\u001b[0;32m      1\u001b[0m students \u001b[39m=\u001b[39m {\n\u001b[0;32m      2\u001b[0m     \u001b[39m# Name  : Age\u001b[39;00m\n\u001b[0;32m      3\u001b[0m     \u001b[39m\"\u001b[39m\u001b[39mJames\u001b[39m\u001b[39m\"\u001b[39m: \u001b[39m27\u001b[39m,\n\u001b[0;32m      4\u001b[0m     \u001b[39m\"\u001b[39m\u001b[39mSarah\u001b[39m\u001b[39m\"\u001b[39m: \u001b[39m19\u001b[39m,\n\u001b[0;32m      5\u001b[0m     \u001b[39m\"\u001b[39m\u001b[39mJocelyn\u001b[39m\u001b[39m\"\u001b[39m: \u001b[39m28\u001b[39m\n\u001b[0;32m      6\u001b[0m }\n\u001b[1;32m----> 8\u001b[0m \u001b[39mprint\u001b[39m(students[\u001b[39m\"\u001b[39;49m\u001b[39mMary\u001b[39;49m\u001b[39m\"\u001b[39;49m])\n\u001b[0;32m     10\u001b[0m \u001b[39mprint\u001b[39m(\u001b[39m\"\u001b[39m\u001b[39mThis line will never print.\u001b[39m\u001b[39m\"\u001b[39m)\n",
      "\u001b[1;31mKeyError\u001b[0m: 'Mary'"
     ]
    }
   ],
   "source": [
    "students = {\n",
    "    # Name  : Age\n",
    "    \"James\": 27,\n",
    "    \"Sarah\": 19,\n",
    "    \"Jocelyn\": 28\n",
    "}\n",
    "\n",
    "print(students[\"Mary\"])\n",
    "\n",
    "print(\"This line will never print.\")"
   ]
  },
  {
   "cell_type": "code",
   "execution_count": null,
   "metadata": {},
   "outputs": [],
   "source": []
  }
 ],
 "metadata": {
  "kernelspec": {
   "display_name": "Python 3 (ipykernel)",
   "language": "python",
   "name": "python3"
  },
  "language_info": {
   "codemirror_mode": {
    "name": "ipython",
    "version": 3
   },
   "file_extension": ".py",
   "mimetype": "text/x-python",
   "name": "python",
   "nbconvert_exporter": "python",
   "pygments_lexer": "ipython3",
   "version": "3.10.11"
  }
 },
 "nbformat": 4,
 "nbformat_minor": 2
}
