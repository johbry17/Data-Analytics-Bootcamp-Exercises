{
 "cells": [
  {
   "cell_type": "code",
   "execution_count": 1,
   "metadata": {
    "colab": {
     "base_uri": "https://localhost:8080/"
    },
    "id": "zz0RaGesJxO_",
    "outputId": "b0b14f91-72f8-4a2c-d23a-aca050dc0989"
   },
   "outputs": [],
   "source": [
    "# Import findspark and initialize. \n",
    "import findspark\n",
    "findspark.init()"
   ]
  },
  {
   "cell_type": "code",
   "execution_count": 2,
   "metadata": {
    "id": "9QIvftVfP-vk"
   },
   "outputs": [
    {
     "name": "stderr",
     "output_type": "stream",
     "text": [
      "23/11/09 00:06:43 WARN Utils: Your hostname, Justins-MacBook-Pro.local resolves to a loopback address: 127.0.0.1; using 10.0.0.125 instead (on interface en0)\n",
      "23/11/09 00:06:43 WARN Utils: Set SPARK_LOCAL_IP if you need to bind to another address\n",
      "Setting default log level to \"WARN\".\n",
      "To adjust logging level use sc.setLogLevel(newLevel). For SparkR, use setLogLevel(newLevel).\n",
      "23/11/09 00:06:43 WARN NativeCodeLoader: Unable to load native-hadoop library for your platform... using builtin-java classes where applicable\n",
      "23/11/09 00:06:44 WARN Utils: Service 'SparkUI' could not bind on port 4040. Attempting port 4041.\n"
     ]
    }
   ],
   "source": [
    "from pyspark.sql import functions as F, types as T\n",
    "# Start Spark session\n",
    "from pyspark.sql import SparkSession\n",
    "spark = SparkSession.builder.appName(\"sparkDates\").getOrCreate()"
   ]
  },
  {
   "cell_type": "code",
   "execution_count": 3,
   "metadata": {
    "colab": {
     "base_uri": "https://localhost:8080/"
    },
    "id": "RCSYC9YoQB6Y",
    "outputId": "7bba65a2-9b7f-45e8-d6e8-ca72f4aafab5"
   },
   "outputs": [
    {
     "name": "stdout",
     "output_type": "stream",
     "text": [
      "+-----------+----------+----+----+\n",
      "|    station|      date|prcp|tobs|\n",
      "+-----------+----------+----+----+\n",
      "|USC00519397|2010-01-01|0.08|  65|\n",
      "|USC00519397|2010-01-02| 0.0|  63|\n",
      "|USC00519397|2010-01-03| 0.0|  74|\n",
      "|USC00519397|2010-01-04| 0.0|  76|\n",
      "|USC00519397|2010-01-07|0.06|  70|\n",
      "|USC00519397|2010-01-08| 0.0|  64|\n",
      "|USC00519397|2010-01-09| 0.0|  68|\n",
      "|USC00519397|2010-01-10| 0.0|  73|\n",
      "|USC00519397|2010-01-11|0.01|  64|\n",
      "|USC00519397|2010-01-12| 0.0|  61|\n",
      "|USC00519397|2010-01-14| 0.0|  66|\n",
      "|USC00519397|2010-01-15| 0.0|  65|\n",
      "|USC00519397|2010-01-16| 0.0|  68|\n",
      "|USC00519397|2010-01-17| 0.0|  64|\n",
      "|USC00519397|2010-01-18| 0.0|  72|\n",
      "|USC00519397|2010-01-19| 0.0|  66|\n",
      "|USC00519397|2010-01-20| 0.0|  66|\n",
      "|USC00519397|2010-01-21| 0.0|  69|\n",
      "|USC00519397|2010-01-22| 0.0|  67|\n",
      "|USC00519397|2010-01-23| 0.0|  67|\n",
      "+-----------+----------+----+----+\n",
      "only showing top 20 rows\n",
      "\n"
     ]
    }
   ],
   "source": [
    "# Load in data\n",
    "from pyspark import SparkFiles\n",
    "url =\"https://2u-data-curriculum-team.s3.amazonaws.com/dataviz-classroom/v1.2/22-big-data/2/rainfall.csv\"\n",
    "spark.sparkContext.addFile(url)\n",
    "df = spark.read.csv(SparkFiles.get(\"rainfall.csv\"), sep=\",\", header=True, inferSchema=True)\n",
    "df.show()"
   ]
  },
  {
   "cell_type": "code",
   "execution_count": 4,
   "metadata": {
    "colab": {
     "base_uri": "https://localhost:8080/"
    },
    "id": "mbPnSTZ58ijs",
    "outputId": "35aad01e-f012-4f14-bf15-f20d8ef6207f"
   },
   "outputs": [
    {
     "name": "stdout",
     "output_type": "stream",
     "text": [
      "root\n",
      " |-- station: string (nullable = true)\n",
      " |-- date: date (nullable = true)\n",
      " |-- prcp: double (nullable = true)\n",
      " |-- tobs: integer (nullable = true)\n",
      "\n"
     ]
    }
   ],
   "source": [
    "# Show schema to confirm date type\n",
    "df.printSchema()"
   ]
  },
  {
   "cell_type": "code",
   "execution_count": 5,
   "metadata": {
    "colab": {
     "base_uri": "https://localhost:8080/"
    },
    "id": "m3NbkLDuQFrG",
    "outputId": "9e9c3f3b-6c74-4306-f1bb-deae61cbdb1b"
   },
   "outputs": [
    {
     "name": "stdout",
     "output_type": "stream",
     "text": [
      "+-----------+----+----+----+\n",
      "|    station|date|prcp|tobs|\n",
      "+-----------+----+----+----+\n",
      "|USC00519397|2010|0.08|  65|\n",
      "|USC00519397|2010| 0.0|  63|\n",
      "|USC00519397|2010| 0.0|  74|\n",
      "|USC00519397|2010| 0.0|  76|\n",
      "|USC00519397|2010|0.06|  70|\n",
      "|USC00519397|2010| 0.0|  64|\n",
      "|USC00519397|2010| 0.0|  68|\n",
      "|USC00519397|2010| 0.0|  73|\n",
      "|USC00519397|2010|0.01|  64|\n",
      "|USC00519397|2010| 0.0|  61|\n",
      "|USC00519397|2010| 0.0|  66|\n",
      "|USC00519397|2010| 0.0|  65|\n",
      "|USC00519397|2010| 0.0|  68|\n",
      "|USC00519397|2010| 0.0|  64|\n",
      "|USC00519397|2010| 0.0|  72|\n",
      "|USC00519397|2010| 0.0|  66|\n",
      "|USC00519397|2010| 0.0|  66|\n",
      "|USC00519397|2010| 0.0|  69|\n",
      "|USC00519397|2010| 0.0|  67|\n",
      "|USC00519397|2010| 0.0|  67|\n",
      "+-----------+----+----+----+\n",
      "only showing top 20 rows\n",
      "\n"
     ]
    }
   ],
   "source": [
    "# Import date time functions\n",
    "from pyspark.sql.functions import year\n",
    "\n",
    "# Show the year for the date column\n",
    "df.withColumn('date', year('date')).show()"
   ]
  },
  {
   "cell_type": "code",
   "execution_count": 6,
   "metadata": {
    "colab": {
     "base_uri": "https://localhost:8080/"
    },
    "id": "Iffkcj9pQMp7",
    "outputId": "a8fb9e25-111d-466a-fb80-2b72faf6adf3"
   },
   "outputs": [
    {
     "name": "stdout",
     "output_type": "stream",
     "text": [
      "+-----------+----------+----+----+----+\n",
      "|    station|      date|prcp|tobs|year|\n",
      "+-----------+----------+----+----+----+\n",
      "|USC00519397|2010-01-01|0.08|  65|2010|\n",
      "|USC00519397|2010-01-02| 0.0|  63|2010|\n",
      "|USC00519397|2010-01-03| 0.0|  74|2010|\n",
      "|USC00519397|2010-01-04| 0.0|  76|2010|\n",
      "|USC00519397|2010-01-07|0.06|  70|2010|\n",
      "|USC00519397|2010-01-08| 0.0|  64|2010|\n",
      "|USC00519397|2010-01-09| 0.0|  68|2010|\n",
      "|USC00519397|2010-01-10| 0.0|  73|2010|\n",
      "|USC00519397|2010-01-11|0.01|  64|2010|\n",
      "|USC00519397|2010-01-12| 0.0|  61|2010|\n",
      "|USC00519397|2010-01-14| 0.0|  66|2010|\n",
      "|USC00519397|2010-01-15| 0.0|  65|2010|\n",
      "|USC00519397|2010-01-16| 0.0|  68|2010|\n",
      "|USC00519397|2010-01-17| 0.0|  64|2010|\n",
      "|USC00519397|2010-01-18| 0.0|  72|2010|\n",
      "|USC00519397|2010-01-19| 0.0|  66|2010|\n",
      "|USC00519397|2010-01-20| 0.0|  66|2010|\n",
      "|USC00519397|2010-01-21| 0.0|  69|2010|\n",
      "|USC00519397|2010-01-22| 0.0|  67|2010|\n",
      "|USC00519397|2010-01-23| 0.0|  67|2010|\n",
      "+-----------+----------+----+----+----+\n",
      "only showing top 20 rows\n",
      "\n"
     ]
    }
   ],
   "source": [
    "# Save the year as a new column\n",
    "df = df.withColumn('year', year('date'))\n",
    "df.show()\n"
   ]
  },
  {
   "cell_type": "code",
   "execution_count": 7,
   "metadata": {
    "colab": {
     "base_uri": "https://localhost:8080/"
    },
    "id": "bP5XSREXQS9M",
    "outputId": "e6051080-2e2d-4271-c1fd-e0e613d1c3e5"
   },
   "outputs": [
    {
     "name": "stdout",
     "output_type": "stream",
     "text": [
      "+----+-------------------+\n",
      "|year|          avg(prcp)|\n",
      "+----+-------------------+\n",
      "|2015|0.19919999999999985|\n",
      "|2013|0.15554567502020986|\n",
      "|2014|0.17855953372189803|\n",
      "|2012| 0.1163805668016194|\n",
      "|2016|0.17984533591106822|\n",
      "|2010|0.13852293920179035|\n",
      "|2011| 0.1637348927875241|\n",
      "|2017|0.16592738752959774|\n",
      "+----+-------------------+\n",
      "\n"
     ]
    }
   ],
   "source": [
    "\n",
    "# Find the average precipitation per year\n",
    "df.groupBy('year').agg(F.avg('prcp')).show()"
   ]
  },
  {
   "cell_type": "code",
   "execution_count": 8,
   "metadata": {
    "colab": {
     "base_uri": "https://localhost:8080/"
    },
    "id": "9GJV6UL-QS-n",
    "outputId": "51f9ebec-fd76-4a56-81df-bf08d2132e93"
   },
   "outputs": [],
   "source": [
    "# Import the month function to get the month from the \"Date\" column. \n",
    "from pyspark.sql.functions import month\n"
   ]
  },
  {
   "cell_type": "code",
   "execution_count": 13,
   "metadata": {
    "colab": {
     "base_uri": "https://localhost:8080/"
    },
    "id": "fWfFkdJlQXR5",
    "outputId": "c7473fdb-0e65-4661-9268-921a89892f1a"
   },
   "outputs": [
    {
     "name": "stdout",
     "output_type": "stream",
     "text": [
      "+-----------+----------+----+----+----+-----+\n",
      "|    station|      date|prcp|tobs|year|month|\n",
      "+-----------+----------+----+----+----+-----+\n",
      "|USC00519397|2010-01-01|0.08|  65|2010|    1|\n",
      "|USC00519397|2010-01-02| 0.0|  63|2010|    1|\n",
      "|USC00519397|2010-01-03| 0.0|  74|2010|    1|\n",
      "|USC00519397|2010-01-04| 0.0|  76|2010|    1|\n",
      "|USC00519397|2010-01-07|0.06|  70|2010|    1|\n",
      "|USC00519397|2010-01-08| 0.0|  64|2010|    1|\n",
      "|USC00519397|2010-01-09| 0.0|  68|2010|    1|\n",
      "|USC00519397|2010-01-10| 0.0|  73|2010|    1|\n",
      "|USC00519397|2010-01-11|0.01|  64|2010|    1|\n",
      "|USC00519397|2010-01-12| 0.0|  61|2010|    1|\n",
      "|USC00519397|2010-01-14| 0.0|  66|2010|    1|\n",
      "|USC00519397|2010-01-15| 0.0|  65|2010|    1|\n",
      "|USC00519397|2010-01-16| 0.0|  68|2010|    1|\n",
      "|USC00519397|2010-01-17| 0.0|  64|2010|    1|\n",
      "|USC00519397|2010-01-18| 0.0|  72|2010|    1|\n",
      "|USC00519397|2010-01-19| 0.0|  66|2010|    1|\n",
      "|USC00519397|2010-01-20| 0.0|  66|2010|    1|\n",
      "|USC00519397|2010-01-21| 0.0|  69|2010|    1|\n",
      "|USC00519397|2010-01-22| 0.0|  67|2010|    1|\n",
      "|USC00519397|2010-01-23| 0.0|  67|2010|    1|\n",
      "+-----------+----------+----+----+----+-----+\n",
      "only showing top 20 rows\n",
      "\n"
     ]
    }
   ],
   "source": [
    "# Add a column, \"month\" to the DataFrame.\n",
    "df = df.withColumn('month', month('date'))\n",
    "df.show()"
   ]
  },
  {
   "cell_type": "code",
   "execution_count": 14,
   "metadata": {
    "colab": {
     "base_uri": "https://localhost:8080/"
    },
    "id": "kvV6fXvoQZav",
    "outputId": "d006a84b-d503-4463-d189-8a4acc20c31d"
   },
   "outputs": [
    {
     "name": "stdout",
     "output_type": "stream",
     "text": [
      "+-----+-------------------+\n",
      "|month|          avg(prcp)|\n",
      "+-----+-------------------+\n",
      "|   12|0.21681850533807792|\n",
      "|    1|0.12997530864197532|\n",
      "|    6|0.13635959339263018|\n",
      "|    3|0.20422733077905494|\n",
      "|    5|0.14567733990147788|\n",
      "|    9|0.16424945612762884|\n",
      "|    4| 0.1506394984326019|\n",
      "|    8|0.14666219839142086|\n",
      "|    7|0.16792224346717663|\n",
      "|   10|0.15560553633218005|\n",
      "|   11| 0.1803801169590643|\n",
      "|    2| 0.1372714870395634|\n",
      "+-----+-------------------+\n",
      "\n"
     ]
    }
   ],
   "source": [
    "# Get the maximum precipitation for each month.\n",
    "df.groupBy('month').agg(F.avg('prcp')).show()"
   ]
  },
  {
   "cell_type": "code",
   "execution_count": 17,
   "metadata": {
    "colab": {
     "base_uri": "https://localhost:8080/",
     "height": 206
    },
    "id": "FUjXAUUwQb43",
    "outputId": "a5f40867-786f-4eb4-d278-37ebfa8cbdd4"
   },
   "outputs": [],
   "source": [
    "# Import the summarized data to a pandas dataframe for plotting\n",
    "# Note: If your summarized data is still too big for your local memory then your notebook may crash\n",
    "df_new = df.groupBy('month').agg(F.avg('prcp')).toPandas()\n"
   ]
  },
  {
   "cell_type": "code",
   "execution_count": 18,
   "metadata": {},
   "outputs": [
    {
     "data": {
      "text/html": [
       "<div>\n",
       "<style scoped>\n",
       "    .dataframe tbody tr th:only-of-type {\n",
       "        vertical-align: middle;\n",
       "    }\n",
       "\n",
       "    .dataframe tbody tr th {\n",
       "        vertical-align: top;\n",
       "    }\n",
       "\n",
       "    .dataframe thead th {\n",
       "        text-align: right;\n",
       "    }\n",
       "</style>\n",
       "<table border=\"1\" class=\"dataframe\">\n",
       "  <thead>\n",
       "    <tr style=\"text-align: right;\">\n",
       "      <th></th>\n",
       "      <th>month</th>\n",
       "      <th>avg(prcp)</th>\n",
       "    </tr>\n",
       "  </thead>\n",
       "  <tbody>\n",
       "    <tr>\n",
       "      <th>0</th>\n",
       "      <td>12</td>\n",
       "      <td>0.216819</td>\n",
       "    </tr>\n",
       "    <tr>\n",
       "      <th>1</th>\n",
       "      <td>1</td>\n",
       "      <td>0.129975</td>\n",
       "    </tr>\n",
       "    <tr>\n",
       "      <th>2</th>\n",
       "      <td>6</td>\n",
       "      <td>0.136360</td>\n",
       "    </tr>\n",
       "    <tr>\n",
       "      <th>3</th>\n",
       "      <td>3</td>\n",
       "      <td>0.204227</td>\n",
       "    </tr>\n",
       "    <tr>\n",
       "      <th>4</th>\n",
       "      <td>5</td>\n",
       "      <td>0.145677</td>\n",
       "    </tr>\n",
       "  </tbody>\n",
       "</table>\n",
       "</div>"
      ],
      "text/plain": [
       "   month  avg(prcp)\n",
       "0     12   0.216819\n",
       "1      1   0.129975\n",
       "2      6   0.136360\n",
       "3      3   0.204227\n",
       "4      5   0.145677"
      ]
     },
     "execution_count": 18,
     "metadata": {},
     "output_type": "execute_result"
    }
   ],
   "source": [
    "df_new.head()"
   ]
  },
  {
   "cell_type": "code",
   "execution_count": 21,
   "metadata": {},
   "outputs": [
    {
     "data": {
      "text/plain": [
       "<Axes: xlabel='month'>"
      ]
     },
     "execution_count": 21,
     "metadata": {},
     "output_type": "execute_result"
    },
    {
     "data": {
      "image/png": "[encoded data removed]",
      "text/plain": [
       "<Figure size 640x480 with 1 Axes>"
      ]
     },
     "metadata": {},
     "output_type": "display_data"
    }
   ],
   "source": [
    "df_new.plot(kind='bar', x='month', y='avg(prcp)')"
   ]
  },
  {
   "cell_type": "code",
   "execution_count": 12,
   "metadata": {
    "colab": {
     "base_uri": "https://localhost:8080/",
     "height": 542
    },
    "id": "0BZOwXDvQelf",
    "outputId": "aa99f3d1-5c33-462d-ccf1-b0de05e08f1a"
   },
   "outputs": [
    {
     "name": "stderr",
     "output_type": "stream",
     "text": [
      "23/11/09 00:06:56 WARN GarbageCollectionMetrics: To enable non-built-in garbage collector(s) List(G1 Concurrent GC), users should configure it(them) to spark.eventLog.gcMetrics.youngGenerationGarbageCollectors or spark.eventLog.gcMetrics.oldGenerationGarbageCollectors\n"
     ]
    }
   ],
   "source": [
    "import plotly.express as px\n",
    "# Create a Plotly graph.\n",
    "\n"
   ]
  },
  {
   "cell_type": "code",
   "execution_count": null,
   "metadata": {
    "id": "AI6HotqJ9S54"
   },
   "outputs": [],
   "source": []
  }
 ],
 "metadata": {
  "colab": {
   "collapsed_sections": [],
   "name": "spark_dates.ipynb",
   "provenance": []
  },
  "kernelspec": {
   "display_name": "Python 3 (ipykernel)",
   "language": "python",
   "name": "python3"
  },
  "language_info": {
   "codemirror_mode": {
    "name": "ipython",
    "version": 3
   },
   "file_extension": ".py",
   "mimetype": "text/x-python",
   "name": "python",
   "nbconvert_exporter": "python",
   "pygments_lexer": "ipython3",
   "version": "3.10.8"
  }
 },
 "nbformat": 4,
 "nbformat_minor": 1
}
