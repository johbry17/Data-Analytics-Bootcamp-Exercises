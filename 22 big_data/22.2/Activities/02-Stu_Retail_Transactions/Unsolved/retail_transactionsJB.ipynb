{
 "cells": [
  {
   "cell_type": "code",
   "execution_count": 1,
   "metadata": {
    "id": "jgCQ-Iiae9V3"
   },
   "outputs": [],
   "source": [
    "# Start a SparkSession\n",
    "import findspark\n",
    "findspark.init()"
   ]
  },
  {
   "cell_type": "code",
   "execution_count": 2,
   "metadata": {
    "id": "iyS6M8jxfjqO"
   },
   "outputs": [
    {
     "name": "stderr",
     "output_type": "stream",
     "text": [
      "23/11/08 23:18:55 WARN Utils: Your hostname, Justins-MacBook-Pro.local resolves to a loopback address: 127.0.0.1; using 10.0.0.125 instead (on interface en0)\n",
      "23/11/08 23:18:55 WARN Utils: Set SPARK_LOCAL_IP if you need to bind to another address\n",
      "Setting default log level to \"WARN\".\n",
      "To adjust logging level use sc.setLogLevel(newLevel). For SparkR, use setLogLevel(newLevel).\n",
      "23/11/08 23:18:56 WARN NativeCodeLoader: Unable to load native-hadoop library for your platform... using builtin-java classes where applicable\n",
      "23/11/08 23:18:56 WARN Utils: Service 'SparkUI' could not bind on port 4040. Attempting port 4041.\n"
     ]
    },
    {
     "name": "stderr",
     "output_type": "stream",
     "text": [
      "23/11/08 23:19:09 WARN GarbageCollectionMetrics: To enable non-built-in garbage collector(s) List(G1 Concurrent GC), users should configure it(them) to spark.eventLog.gcMetrics.youngGenerationGarbageCollectors or spark.eventLog.gcMetrics.oldGenerationGarbageCollectors\n"
     ]
    }
   ],
   "source": [
    "# Start Spark session\n",
    "from pyspark.sql import SparkSession\n",
    "spark = SparkSession.builder.appName(\"Retail Transactions\").getOrCreate()"
   ]
  },
  {
   "cell_type": "code",
   "execution_count": 4,
   "metadata": {
    "id": "azmN3W3UgATw"
   },
   "outputs": [
    {
     "name": "stdout",
     "output_type": "stream",
     "text": [
      "+-----------+----------------+------------------+\n",
      "|customer_id|transaction_date|transaction_amount|\n",
      "+-----------+----------------+------------------+\n",
      "|     CS5295|       11-Feb-13|                35|\n",
      "|     CS4768|       15-Mar-15|                39|\n",
      "|     CS2122|       26-Feb-13|                52|\n",
      "|     CS1217|       16-Nov-11|                99|\n",
      "|     CS1850|       20-Nov-13|                78|\n",
      "|     CS5539|       26-Mar-14|                81|\n",
      "|     CS2724|       06-Feb-12|                93|\n",
      "|     CS5902|       30-Jan-15|                89|\n",
      "|     CS6040|       08-Jan-13|                76|\n",
      "|     CS3802|       20-Aug-13|                75|\n",
      "|     CS3494|       02-Jul-13|                94|\n",
      "|     CS3780|       25-Mar-13|                80|\n",
      "|     CS1171|       03-Nov-12|                59|\n",
      "|     CS2892|       12-May-13|                43|\n",
      "|     CS5552|       29-Dec-14|                78|\n",
      "|     CS6043|       15-Jan-14|                98|\n",
      "|     CS4147|       08-Jul-13|                81|\n",
      "|     CS4655|       30-Dec-13|                93|\n",
      "|     CS3904|       20-Jul-14|               103|\n",
      "|     CS4102|       09-Jul-11|                96|\n",
      "+-----------+----------------+------------------+\n",
      "only showing top 20 rows\n",
      "\n"
     ]
    }
   ],
   "source": [
    "# Read in data from S3 Buckets\n",
    "from pyspark import SparkFiles\n",
    "url = \"https://2u-data-curriculum-team.s3.amazonaws.com/dataviz-classroom/v1.2/22-big-data/2/retail_transactions.csv\"\n",
    "spark.sparkContext.addFile(url)\n",
    "df=spark.read.csv(SparkFiles.get('retail_transactions.csv'), sep=',', header=True)\n",
    "df.show()\n",
    "\n",
    "# Show DataFrame\n"
   ]
  },
  {
   "cell_type": "code",
   "execution_count": 15,
   "metadata": {
    "id": "93GVMklb2J8F"
   },
   "outputs": [
    {
     "data": {
      "text/plain": [
       "[('customer_id', 'string'),\n",
       " ('transaction_date', 'string'),\n",
       " ('transaction_amount', 'double')]"
      ]
     },
     "execution_count": 15,
     "metadata": {},
     "output_type": "execute_result"
    }
   ],
   "source": [
    "from pyspark.sql import functions as F, types as T\n",
    "# Convert the \"transaction_amount\" column from the string type to the `float` type.\n",
    "df = df.withColumn('transaction_amount', df.transaction_amount.cast(T.DoubleType()))\n",
    "df.dtypes"
   ]
  },
  {
   "cell_type": "code",
   "execution_count": 18,
   "metadata": {
    "id": "GWI53_992QUs"
   },
   "outputs": [
    {
     "name": "stdout",
     "output_type": "stream",
     "text": [
      "+-----------+-----------------------+\n",
      "|customer_id|avg(transaction_amount)|\n",
      "+-----------+-----------------------+\n",
      "|     CS6001|      69.57894736842105|\n",
      "|     CS3128|                   64.0|\n",
      "|     CS5241|      64.05263157894737|\n",
      "|     CS3155|                  74.32|\n",
      "|     CS2754|      74.45454545454545|\n",
      "|     CS3950|      65.73684210526316|\n",
      "|     CS5130|                  66.64|\n",
      "|     CS3935|      67.34782608695652|\n",
      "|     CS3083|      62.88235294117647|\n",
      "|     CS3587|      69.80952380952381|\n",
      "|     CS2282|      69.14285714285714|\n",
      "|     CS1664|                  78.16|\n",
      "|     CS1802|      70.85185185185185|\n",
      "|     CS2412|                  67.75|\n",
      "|     CS4335|                   66.0|\n",
      "|     CS3997|      69.63157894736842|\n",
      "|     CS4915|                   67.0|\n",
      "|     CS3993|                  69.25|\n",
      "|     CS2811|      65.29411764705883|\n",
      "|     CS6062|      64.33333333333333|\n",
      "+-----------+-----------------------+\n",
      "only showing top 20 rows\n",
      "\n"
     ]
    }
   ],
   "source": [
    "# Find the average \"transaction_amount\" value by grouping by \"customer_id\" value.\n",
    "df.groupBy('customer_id').agg(F.avg('transaction_amount')).show()"
   ]
  },
  {
   "cell_type": "code",
   "execution_count": 19,
   "metadata": {
    "id": "zpzZQn4R2VT1"
   },
   "outputs": [
    {
     "name": "stdout",
     "output_type": "stream",
     "text": [
      "+-----------+-----------------------+\n",
      "|customer_id|max(transaction_amount)|\n",
      "+-----------+-----------------------+\n",
      "|     CS6001|                  105.0|\n",
      "|     CS3128|                  100.0|\n",
      "|     CS5241|                   94.0|\n",
      "|     CS3155|                  105.0|\n",
      "|     CS2754|                  104.0|\n",
      "|     CS3950|                  105.0|\n",
      "|     CS5130|                  104.0|\n",
      "|     CS3935|                  104.0|\n",
      "|     CS3083|                   94.0|\n",
      "|     CS3587|                  105.0|\n",
      "|     CS2282|                   97.0|\n",
      "|     CS1664|                  105.0|\n",
      "|     CS1802|                  104.0|\n",
      "|     CS2412|                  102.0|\n",
      "|     CS4335|                   96.0|\n",
      "|     CS3997|                   99.0|\n",
      "|     CS4915|                  102.0|\n",
      "|     CS3993|                  103.0|\n",
      "|     CS2811|                   96.0|\n",
      "|     CS6062|                  100.0|\n",
      "+-----------+-----------------------+\n",
      "only showing top 20 rows\n",
      "\n"
     ]
    }
   ],
   "source": [
    "# Find the maximum \"transaction_amount\" value per customer by grouping by \"customer_id\" value.\n",
    "df.groupBy('customer_id').agg(F.max('transaction_amount')).show()"
   ]
  },
  {
   "cell_type": "code",
   "execution_count": 20,
   "metadata": {
    "id": "aNRVy0712etO"
   },
   "outputs": [
    {
     "name": "stdout",
     "output_type": "stream",
     "text": [
      "+-----------+-----------------------+\n",
      "|customer_id|sum(transaction_amount)|\n",
      "+-----------+-----------------------+\n",
      "|     CS6001|                 1322.0|\n",
      "|     CS3128|                 1472.0|\n",
      "|     CS5241|                 1217.0|\n",
      "|     CS3155|                 1858.0|\n",
      "|     CS2754|                 1638.0|\n",
      "|     CS3950|                 1249.0|\n",
      "|     CS5130|                 1666.0|\n",
      "|     CS3935|                 1549.0|\n",
      "|     CS3083|                 1069.0|\n",
      "|     CS3587|                 1466.0|\n",
      "|     CS2282|                 1452.0|\n",
      "|     CS1664|                 1954.0|\n",
      "|     CS1802|                 1913.0|\n",
      "|     CS2412|                 1084.0|\n",
      "|     CS4335|                  660.0|\n",
      "|     CS3997|                 1323.0|\n",
      "|     CS4915|                 1541.0|\n",
      "|     CS3993|                 1385.0|\n",
      "|     CS2811|                 1110.0|\n",
      "|     CS6062|                  772.0|\n",
      "+-----------+-----------------------+\n",
      "only showing top 20 rows\n",
      "\n"
     ]
    }
   ],
   "source": [
    "# Find the sum of the \"transaction_amount\" values per customer by grouping by \"customer_id\" value.\n",
    "df.groupBy('customer_id').agg(F.sum('transaction_amount')).show()"
   ]
  },
  {
   "cell_type": "code",
   "execution_count": 21,
   "metadata": {
    "id": "6XO6Zvhf2jaN"
   },
   "outputs": [
    {
     "name": "stdout",
     "output_type": "stream",
     "text": [
      "+----------------+-----------------------+\n",
      "|transaction_date|avg(transaction_amount)|\n",
      "+----------------+-----------------------+\n",
      "|       01-Feb-15|      62.19277108433735|\n",
      "|       20-Feb-12|      66.10344827586206|\n",
      "|       22-Jul-12|                   67.0|\n",
      "|       17-Jan-15|      62.89655172413793|\n",
      "|       28-Aug-11|      63.70754716981132|\n",
      "|       29-Jul-12|                   64.7|\n",
      "|       17-Jan-14|                   62.3|\n",
      "|       12-Jun-13|      68.32530120481928|\n",
      "|       23-Oct-12|      65.56666666666666|\n",
      "|       02-Nov-12|      65.55445544554455|\n",
      "|       06-Mar-14|       64.3529411764706|\n",
      "|       11-Sep-12|      68.19540229885058|\n",
      "|       29-Dec-13|      67.68656716417911|\n",
      "|       14-Feb-13|     63.857142857142854|\n",
      "|       18-Aug-13|       67.5764705882353|\n",
      "|       09-Jan-14|      67.68888888888888|\n",
      "|       28-May-11|      72.83720930232558|\n",
      "|       26-Oct-13|      66.19354838709677|\n",
      "|       21-Nov-11|      65.57142857142857|\n",
      "|       12-Feb-13|                   64.5|\n",
      "+----------------+-----------------------+\n",
      "only showing top 20 rows\n",
      "\n"
     ]
    }
   ],
   "source": [
    "# Find the average \"transaction_amount\" value per \"transaction_date\" value.\n",
    "df.groupBy('transaction_date').agg(F.avg('transaction_amount')).show()"
   ]
  },
  {
   "cell_type": "code",
   "execution_count": 22,
   "metadata": {
    "id": "gWnvAAG425B9"
   },
   "outputs": [
    {
     "name": "stdout",
     "output_type": "stream",
     "text": [
      "+----------------+-----------------------+\n",
      "|transaction_date|sum(transaction_amount)|\n",
      "+----------------+-----------------------+\n",
      "|       01-Feb-15|                 5162.0|\n",
      "|       20-Feb-12|                 5751.0|\n",
      "|       22-Jul-12|                 6164.0|\n",
      "|       17-Jan-15|                 3648.0|\n",
      "|       28-Aug-11|                 6753.0|\n",
      "|       29-Jul-12|                 5176.0|\n",
      "|       17-Jan-14|                 4361.0|\n",
      "|       12-Jun-13|                 5671.0|\n",
      "|       23-Oct-12|                 5901.0|\n",
      "|       02-Nov-12|                 6621.0|\n",
      "|       06-Mar-14|                 5470.0|\n",
      "|       11-Sep-12|                 5933.0|\n",
      "|       29-Dec-13|                 4535.0|\n",
      "|       14-Feb-13|                 4470.0|\n",
      "|       18-Aug-13|                 5744.0|\n",
      "|       09-Jan-14|                 6092.0|\n",
      "|       28-May-11|                 6264.0|\n",
      "|       26-Oct-13|                 6156.0|\n",
      "|       21-Nov-11|                 5508.0|\n",
      "|       12-Feb-13|                 4902.0|\n",
      "+----------------+-----------------------+\n",
      "only showing top 20 rows\n",
      "\n"
     ]
    }
   ],
   "source": [
    "# Find the sum of \"transaction_amount\" values per \"transaction_date\" value.\n",
    "df.groupBy('transaction_date').agg(F.sum('transaction_amount')).show()"
   ]
  },
  {
   "cell_type": "code",
   "execution_count": 23,
   "metadata": {
    "id": "VX7UfA-G246l"
   },
   "outputs": [
    {
     "name": "stdout",
     "output_type": "stream",
     "text": [
      "+----------------+-----------------------+\n",
      "|transaction_date|max(transaction_amount)|\n",
      "+----------------+-----------------------+\n",
      "|       01-Feb-15|                  105.0|\n",
      "|       20-Feb-12|                  105.0|\n",
      "|       22-Jul-12|                  105.0|\n",
      "|       17-Jan-15|                  105.0|\n",
      "|       28-Aug-11|                  105.0|\n",
      "|       29-Jul-12|                  104.0|\n",
      "|       17-Jan-14|                  104.0|\n",
      "|       12-Jun-13|                  105.0|\n",
      "|       23-Oct-12|                  105.0|\n",
      "|       02-Nov-12|                  105.0|\n",
      "|       06-Mar-14|                  105.0|\n",
      "|       11-Sep-12|                  105.0|\n",
      "|       29-Dec-13|                  105.0|\n",
      "|       14-Feb-13|                  103.0|\n",
      "|       18-Aug-13|                  105.0|\n",
      "|       09-Jan-14|                  105.0|\n",
      "|       28-May-11|                  105.0|\n",
      "|       26-Oct-13|                  105.0|\n",
      "|       21-Nov-11|                  105.0|\n",
      "|       12-Feb-13|                  105.0|\n",
      "+----------------+-----------------------+\n",
      "only showing top 20 rows\n",
      "\n"
     ]
    }
   ],
   "source": [
    "# Find the maximum \"transaction_amount\" value per \"transaction_date\" value.\n",
    "df.groupBy('transaction_date').agg(F.max('transaction_amount')).show()"
   ]
  },
  {
   "cell_type": "code",
   "execution_count": null,
   "metadata": {
    "id": "brzQq-FEL1kD"
   },
   "outputs": [],
   "source": []
  }
 ],
 "metadata": {
  "colab": {
   "collapsed_sections": [],
   "name": "RetailTransactions_unsolved.ipynb",
   "provenance": []
  },
  "kernelspec": {
   "display_name": "Python 3 (ipykernel)",
   "language": "python",
   "name": "python3"
  },
  "language_info": {
   "codemirror_mode": {
    "name": "ipython",
    "version": 3
   },
   "file_extension": ".py",
   "mimetype": "text/x-python",
   "name": "python",
   "nbconvert_exporter": "python",
   "pygments_lexer": "ipython3",
   "version": "3.10.8"
  },
  "vscode": {
   "interpreter": {
    "hash": "aee8b7b246df8f9039afb4144a1f6fd8d2ca17a180786b69acc140d282b71a49"
   }
  }
 },
 "nbformat": 4,
 "nbformat_minor": 1
}
