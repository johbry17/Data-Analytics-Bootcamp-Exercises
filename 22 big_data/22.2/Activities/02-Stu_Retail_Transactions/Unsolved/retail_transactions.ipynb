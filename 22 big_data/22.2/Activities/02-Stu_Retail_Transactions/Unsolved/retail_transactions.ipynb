{
 "cells": [
  {
   "cell_type": "code",
   "execution_count": 1,
   "metadata": {
    "id": "jgCQ-Iiae9V3"
   },
   "outputs": [],
   "source": [
    "# Start a SparkSession\n",
    "import findspark\n",
    "findspark.init()"
   ]
  },
  {
   "cell_type": "code",
   "execution_count": 2,
   "metadata": {
    "id": "iyS6M8jxfjqO"
   },
   "outputs": [
    {
     "name": "stderr",
     "output_type": "stream",
     "text": [
      "23/11/08 23:18:55 WARN Utils: Your hostname, Justins-MacBook-Pro.local resolves to a loopback address: 127.0.0.1; using 10.0.0.125 instead (on interface en0)\n",
      "23/11/08 23:18:55 WARN Utils: Set SPARK_LOCAL_IP if you need to bind to another address\n",
      "Setting default log level to \"WARN\".\n",
      "To adjust logging level use sc.setLogLevel(newLevel). For SparkR, use setLogLevel(newLevel).\n",
      "23/11/08 23:18:56 WARN NativeCodeLoader: Unable to load native-hadoop library for your platform... using builtin-java classes where applicable\n",
      "23/11/08 23:18:56 WARN Utils: Service 'SparkUI' could not bind on port 4040. Attempting port 4041.\n"
     ]
    },
    {
     "name": "stderr",
     "output_type": "stream",
     "text": [
      "23/11/08 23:19:09 WARN GarbageCollectionMetrics: To enable non-built-in garbage collector(s) List(G1 Concurrent GC), users should configure it(them) to spark.eventLog.gcMetrics.youngGenerationGarbageCollectors or spark.eventLog.gcMetrics.oldGenerationGarbageCollectors\n"
     ]
    }
   ],
   "source": [
    "# Start Spark session\n",
    "from pyspark.sql import SparkSession\n",
    "spark = SparkSession.builder.appName(\"Retail Transactions\").getOrCreate()"
   ]
  },
  {
   "cell_type": "code",
   "execution_count": 4,
   "metadata": {
    "id": "azmN3W3UgATw"
   },
   "outputs": [
    {
     "name": "stdout",
     "output_type": "stream",
     "text": [
      "+-----------+----------------+------------------+\n",
      "|customer_id|transaction_date|transaction_amount|\n",
      "+-----------+----------------+------------------+\n",
      "|     CS5295|       11-Feb-13|                35|\n",
      "|     CS4768|       15-Mar-15|                39|\n",
      "|     CS2122|       26-Feb-13|                52|\n",
      "|     CS1217|       16-Nov-11|                99|\n",
      "|     CS1850|       20-Nov-13|                78|\n",
      "|     CS5539|       26-Mar-14|                81|\n",
      "|     CS2724|       06-Feb-12|                93|\n",
      "|     CS5902|       30-Jan-15|                89|\n",
      "|     CS6040|       08-Jan-13|                76|\n",
      "|     CS3802|       20-Aug-13|                75|\n",
      "|     CS3494|       02-Jul-13|                94|\n",
      "|     CS3780|       25-Mar-13|                80|\n",
      "|     CS1171|       03-Nov-12|                59|\n",
      "|     CS2892|       12-May-13|                43|\n",
      "|     CS5552|       29-Dec-14|                78|\n",
      "|     CS6043|       15-Jan-14|                98|\n",
      "|     CS4147|       08-Jul-13|                81|\n",
      "|     CS4655|       30-Dec-13|                93|\n",
      "|     CS3904|       20-Jul-14|               103|\n",
      "|     CS4102|       09-Jul-11|                96|\n",
      "+-----------+----------------+------------------+\n",
      "only showing top 20 rows\n",
      "\n"
     ]
    }
   ],
   "source": [
    "# Read in data from S3 Buckets\n",
    "from pyspark import SparkFiles\n",
    "url = \"https://2u-data-curriculum-team.s3.amazonaws.com/dataviz-classroom/v1.2/22-big-data/2/retail_transactions.csv\"\n",
    "spark.sparkContext.addFile(url)\n",
    "df=spark.read.csv(SparkFiles.get('retail_transactions.csv'), sep=',', header=True)\n",
    "df.show()\n",
    "\n",
    "# Show DataFrame\n"
   ]
  },
  {
   "cell_type": "code",
   "execution_count": 4,
   "metadata": {
    "id": "93GVMklb2J8F"
   },
   "outputs": [],
   "source": [
    "# Convert the \"transaction_amount\" column from the string type to the `float` type.\n"
   ]
  },
  {
   "cell_type": "code",
   "execution_count": 5,
   "metadata": {
    "id": "GWI53_992QUs"
   },
   "outputs": [],
   "source": [
    "# Find the average \"transaction_amount\" value by grouping by \"customer_id\" value.\n"
   ]
  },
  {
   "cell_type": "code",
   "execution_count": 6,
   "metadata": {
    "id": "zpzZQn4R2VT1"
   },
   "outputs": [],
   "source": [
    "# Find the maximum \"transaction_amount\" value per customer by grouping by \"customer_id\" value.\n"
   ]
  },
  {
   "cell_type": "code",
   "execution_count": 7,
   "metadata": {
    "id": "aNRVy0712etO"
   },
   "outputs": [],
   "source": [
    "# Find the sum of the \"transaction_amount\" values per customer by grouping by \"customer_id\" value.\n"
   ]
  },
  {
   "cell_type": "code",
   "execution_count": 8,
   "metadata": {
    "id": "6XO6Zvhf2jaN"
   },
   "outputs": [],
   "source": [
    "# Find the average \"transaction_amount\" value per \"transaction_date\" value.\n"
   ]
  },
  {
   "cell_type": "code",
   "execution_count": 9,
   "metadata": {
    "id": "gWnvAAG425B9"
   },
   "outputs": [],
   "source": [
    "# Find the sum of \"transaction_amount\" values per \"transaction_date\" value.\n"
   ]
  },
  {
   "cell_type": "code",
   "execution_count": 10,
   "metadata": {
    "id": "VX7UfA-G246l"
   },
   "outputs": [],
   "source": [
    "# Find the maximum \"transaction_amount\" value per \"transaction_date\" value.\n"
   ]
  },
  {
   "cell_type": "code",
   "execution_count": null,
   "metadata": {
    "id": "brzQq-FEL1kD"
   },
   "outputs": [],
   "source": []
  }
 ],
 "metadata": {
  "colab": {
   "collapsed_sections": [],
   "name": "RetailTransactions_unsolved.ipynb",
   "provenance": []
  },
  "kernelspec": {
   "display_name": "Python 3 (ipykernel)",
   "language": "python",
   "name": "python3"
  },
  "language_info": {
   "codemirror_mode": {
    "name": "ipython",
    "version": 3
   },
   "file_extension": ".py",
   "mimetype": "text/x-python",
   "name": "python",
   "nbconvert_exporter": "python",
   "pygments_lexer": "ipython3",
   "version": "3.10.8"
  },
  "vscode": {
   "interpreter": {
    "hash": "aee8b7b246df8f9039afb4144a1f6fd8d2ca17a180786b69acc140d282b71a49"
   }
  }
 },
 "nbformat": 4,
 "nbformat_minor": 1
}
