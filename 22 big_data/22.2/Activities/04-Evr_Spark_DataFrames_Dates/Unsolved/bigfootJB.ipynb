{
 "cells": [
  {
   "cell_type": "code",
   "execution_count": 41,
   "metadata": {
    "colab": {
     "base_uri": "https://localhost:8080/"
    },
    "id": "odBn6F_lGN_8",
    "outputId": "b10b9488-c8df-45e8-ba0b-7d4d6bf5b2b8"
   },
   "outputs": [],
   "source": [
    "# Import findspark and initialize. \n",
    "import findspark\n",
    "findspark.init()"
   ]
  },
  {
   "cell_type": "code",
   "execution_count": 42,
   "metadata": {
    "id": "1GIpxtoMXUDC"
   },
   "outputs": [],
   "source": [
    "# Start Spark session\n",
    "from pyspark.sql import SparkSession\n",
    "spark = SparkSession.builder.appName(\"bigfoot\").getOrCreate()"
   ]
  },
  {
   "cell_type": "code",
   "execution_count": 43,
   "metadata": {
    "colab": {
     "base_uri": "https://localhost:8080/"
    },
    "id": "5yT4wANyFtR6",
    "outputId": "c46a2894-11c1-49d3-dd6a-a3f74658ec86"
   },
   "outputs": [
    {
     "name": "stdout",
     "output_type": "stream",
     "text": [
      "+------+--------------------+--------------+--------------------+--------+---------+\n",
      "|number|               title|classification|           timestamp|latitude|longitude|\n",
      "+------+--------------------+--------------+--------------------+--------+---------+\n",
      "|   637|Report 637: Campe...|       Class A|2000-06-16T12:00:00Z|    61.5|   -142.9|\n",
      "|  2917|Report 2917: Fami...|       Class A|1995-05-15T12:00:00Z| 55.1872|-132.7982|\n",
      "|  7963|Report 7963: Sasq...|       Class A|2004-02-09T12:00:00Z| 55.2035|-132.8202|\n",
      "|  9317|Report 9317: Driv...|       Class A|2004-06-18T12:00:00Z| 62.9375|-141.5667|\n",
      "| 13038|Report 13038: Sno...|       Class A|2004-02-15T12:00:00Z| 61.0595|-149.7853|\n",
      "| 23666|Report 23666: Pas...|       Class A|2008-04-23T12:00:00Z|62.77335|-141.3165|\n",
      "| 26604|Report 26604: Day...|       Class A|2009-07-15T12:00:00Z|64.89139|-147.8142|\n",
      "|   179|Report 179: Man a...|       Class A|1981-09-15T12:00:00Z|32.31435|-85.16235|\n",
      "|   245|Report 245: Two o...|       Class A|1999-07-15T12:00:00Z|33.28375|-87.32655|\n",
      "|   416|Report 416: A res...|       Class A|1983-11-15T12:00:00Z|34.95605| -86.4559|\n",
      "|   435|Report 435: Dayli...|       Class A|2000-10-10T12:00:00Z| 34.5422|-86.66465|\n",
      "|   451|Report 451: Young...|       Class A|1993-08-20T12:00:00Z| 34.9263|-87.02025|\n",
      "|   577|Report 577: Man h...|       Class A|1999-11-15T12:00:00Z|34.80405|-87.50905|\n",
      "|   799|Report 799: Perso...|       Class A|1978-04-15T12:00:00Z|34.92855| -87.1105|\n",
      "|   832|Report 832: Witne...|       Class A|1980-11-15T12:00:00Z|33.13195|-88.17885|\n",
      "|   961|Report 961: Motor...|       Class A|1997-01-06T12:00:00Z| 31.4515|-88.08305|\n",
      "|  1022|Report 1022: Hunt...|       Class A|1990-09-15T12:00:00Z|33.97575|-87.45876|\n",
      "|  1907|Report 1907: Moto...|       Class A|1996-12-05T12:00:00Z|31.58255|-87.96095|\n",
      "|  3028|Report 3028: Dayl...|       Class A|2000-06-01T12:00:00Z| 34.4881| -86.6333|\n",
      "|  3296|Report 3296: Man ...|       Class A|2001-10-15T12:00:00Z| 34.6802|-87.00665|\n",
      "+------+--------------------+--------------+--------------------+--------+---------+\n",
      "only showing top 20 rows\n",
      "\n"
     ]
    },
    {
     "name": "stderr",
     "output_type": "stream",
     "text": [
      "23/11/09 00:40:07 WARN SparkContext: The path https://2u-data-curriculum-team.s3.amazonaws.com/dataviz-classroom/v1.2/22-big-data/2/bigfoot.csv has been added already. Overwriting of added paths is not supported in the current version.\n"
     ]
    }
   ],
   "source": [
    "# Read in data from S3 Buckets\n",
    "from pyspark import SparkFiles\n",
    "url =\"https://2u-data-curriculum-team.s3.amazonaws.com/dataviz-classroom/v1.2/22-big-data/2/bigfoot.csv\"\n",
    "spark.sparkContext.addFile(url)\n",
    "df = spark.read.csv(SparkFiles.get(\"bigfoot.csv\"), header=True, inferSchema=True, timestampFormat=\"yyyy/MM/dd HH:mm:ss\")\n",
    "\n",
    "# Show DataFrame\n",
    "df.show()"
   ]
  },
  {
   "cell_type": "code",
   "execution_count": 44,
   "metadata": {
    "id": "zP-O7x64FtSC"
   },
   "outputs": [],
   "source": [
    "# Import date time functions\n",
    "from pyspark.sql.functions import month, year"
   ]
  },
  {
   "cell_type": "code",
   "execution_count": 45,
   "metadata": {
    "colab": {
     "base_uri": "https://localhost:8080/"
    },
    "id": "76lFAjMQFtSH",
    "outputId": "0cc84e48-6b6d-4d8e-9e39-12bddf9fd3c4",
    "scrolled": true
   },
   "outputs": [
    {
     "name": "stdout",
     "output_type": "stream",
     "text": [
      "+------+--------------------+--------------+--------------------+--------+---------+----+\n",
      "|number|               title|classification|           timestamp|latitude|longitude|year|\n",
      "+------+--------------------+--------------+--------------------+--------+---------+----+\n",
      "|   637|Report 637: Campe...|       Class A|2000-06-16T12:00:00Z|    61.5|   -142.9|2000|\n",
      "|  2917|Report 2917: Fami...|       Class A|1995-05-15T12:00:00Z| 55.1872|-132.7982|1995|\n",
      "|  7963|Report 7963: Sasq...|       Class A|2004-02-09T12:00:00Z| 55.2035|-132.8202|2004|\n",
      "|  9317|Report 9317: Driv...|       Class A|2004-06-18T12:00:00Z| 62.9375|-141.5667|2004|\n",
      "| 13038|Report 13038: Sno...|       Class A|2004-02-15T12:00:00Z| 61.0595|-149.7853|2004|\n",
      "| 23666|Report 23666: Pas...|       Class A|2008-04-23T12:00:00Z|62.77335|-141.3165|2008|\n",
      "| 26604|Report 26604: Day...|       Class A|2009-07-15T12:00:00Z|64.89139|-147.8142|2009|\n",
      "|   179|Report 179: Man a...|       Class A|1981-09-15T12:00:00Z|32.31435|-85.16235|1981|\n",
      "|   245|Report 245: Two o...|       Class A|1999-07-15T12:00:00Z|33.28375|-87.32655|1999|\n",
      "|   416|Report 416: A res...|       Class A|1983-11-15T12:00:00Z|34.95605| -86.4559|1983|\n",
      "|   435|Report 435: Dayli...|       Class A|2000-10-10T12:00:00Z| 34.5422|-86.66465|2000|\n",
      "|   451|Report 451: Young...|       Class A|1993-08-20T12:00:00Z| 34.9263|-87.02025|1993|\n",
      "|   577|Report 577: Man h...|       Class A|1999-11-15T12:00:00Z|34.80405|-87.50905|1999|\n",
      "|   799|Report 799: Perso...|       Class A|1978-04-15T12:00:00Z|34.92855| -87.1105|1978|\n",
      "|   832|Report 832: Witne...|       Class A|1980-11-15T12:00:00Z|33.13195|-88.17885|1980|\n",
      "|   961|Report 961: Motor...|       Class A|1997-01-06T12:00:00Z| 31.4515|-88.08305|1997|\n",
      "|  1022|Report 1022: Hunt...|       Class A|1990-09-15T12:00:00Z|33.97575|-87.45876|1990|\n",
      "|  1907|Report 1907: Moto...|       Class A|1996-12-05T12:00:00Z|31.58255|-87.96095|1996|\n",
      "|  3028|Report 3028: Dayl...|       Class A|2000-06-01T12:00:00Z| 34.4881| -86.6333|2000|\n",
      "|  3296|Report 3296: Man ...|       Class A|2001-10-15T12:00:00Z| 34.6802|-87.00665|2001|\n",
      "+------+--------------------+--------------+--------------------+--------+---------+----+\n",
      "only showing top 20 rows\n",
      "\n"
     ]
    }
   ],
   "source": [
    "# Create a new DataFrame with the column Year\n",
    "df2 = df.withColumn('year', year('timestamp'))\n",
    "df2.show()"
   ]
  },
  {
   "cell_type": "code",
   "execution_count": 46,
   "metadata": {
    "colab": {
     "base_uri": "https://localhost:8080/"
    },
    "id": "wpJF31VGFtSL",
    "outputId": "90e5a9ab-1cc2-4bb8-9c81-559c8067abb0"
   },
   "outputs": [],
   "source": [
    "# Save the year as a new column\n"
   ]
  },
  {
   "cell_type": "code",
   "execution_count": 47,
   "metadata": {
    "colab": {
     "base_uri": "https://localhost:8080/"
    },
    "id": "sBpcHcZcFtSQ",
    "outputId": "6ee6418f-1931-4195-c1f9-0459fabc2d68"
   },
   "outputs": [],
   "source": [
    "from pyspark.sql import functions as F, types as T\n",
    "# Find the total bigfoot sightings per year\n",
    "df_plot = df2.groupBy('year').agg(F.sum('number'))"
   ]
  },
  {
   "cell_type": "code",
   "execution_count": 48,
   "metadata": {},
   "outputs": [
    {
     "data": {
      "text/plain": [
       "['year', 'sum(number)']"
      ]
     },
     "execution_count": 48,
     "metadata": {},
     "output_type": "execute_result"
    }
   ],
   "source": [
    "df_plot.columns"
   ]
  },
  {
   "cell_type": "code",
   "execution_count": 49,
   "metadata": {},
   "outputs": [
    {
     "name": "stdout",
     "output_type": "stream",
     "text": [
      "+----+---------+\n",
      "|year|sightings|\n",
      "+----+---------+\n",
      "|1959|     7211|\n",
      "|1990|   597283|\n",
      "|1975|   589546|\n",
      "|1977|   659752|\n",
      "|2003|  1752268|\n",
      "|2007|  3540238|\n",
      "|1869|    14338|\n",
      "|1974|   569623|\n",
      "|2015|  2897024|\n",
      "|1955|    38810|\n",
      "|2006|  3380067|\n",
      "|1978|  1092140|\n",
      "|1925|    24413|\n",
      "|1961|   150923|\n",
      "|2013|  4376577|\n",
      "|1942|     1303|\n",
      "|1944|    31793|\n",
      "|NULL|    31929|\n",
      "|1952|     4353|\n",
      "|1956|    23107|\n",
      "+----+---------+\n",
      "only showing top 20 rows\n",
      "\n"
     ]
    }
   ],
   "source": [
    "df_plot = df_plot.withColumnRenamed('sum(number)', 'sightings')\n",
    "df_plot.show()"
   ]
  },
  {
   "cell_type": "code",
   "execution_count": 54,
   "metadata": {
    "colab": {
     "base_uri": "https://localhost:8080/",
     "height": 206
    },
    "id": "vGvRXR0dFtSU",
    "outputId": "212017a1-968f-468d-8510-f22e249b075d"
   },
   "outputs": [
    {
     "data": {
      "text/plain": [
       "<Axes: xlabel='year'>"
      ]
     },
     "execution_count": 54,
     "metadata": {},
     "output_type": "execute_result"
    },
    {
     "data": {
      "image/png": "[encoded data removed]",
      "text/plain": [
       "<Figure size 1500x500 with 1 Axes>"
      ]
     },
     "metadata": {},
     "output_type": "display_data"
    }
   ],
   "source": [
    "# Import the summarized data to a pandas DataFrame for plotting\n",
    "# Note: If your summarized data is still too big for your local memory then your notebook may crash\n",
    "from numpy import size\n",
    "import pandas as pd\n",
    "df_plot2 = df_plot.toPandas()\n",
    "df_plot2.plot(x='year', y='sightings', kind='bar', figsize=(15,5))"
   ]
  },
  {
   "cell_type": "code",
   "execution_count": 51,
   "metadata": {
    "colab": {
     "base_uri": "https://localhost:8080/",
     "height": 206
    },
    "id": "KZ9HqmjoFtSY",
    "outputId": "0cd521c4-42ff-4fde-dad0-16134bf56cfc"
   },
   "outputs": [],
   "source": [
    "# Clean the data and rename the count column to \"sightings\"\n"
   ]
  },
  {
   "cell_type": "code",
   "execution_count": 52,
   "metadata": {
    "colab": {
     "base_uri": "https://localhost:8080/",
     "height": 542
    },
    "id": "LsS-TQ5tGby5",
    "outputId": "35b7cf4a-afc8-40ef-ffe8-cf2821f123b2"
   },
   "outputs": [],
   "source": [
    "import plotly.express as px\n",
    "# Create a Plotly graph.\n"
   ]
  },
  {
   "cell_type": "code",
   "execution_count": null,
   "metadata": {
    "id": "buOiORv1sLIo"
   },
   "outputs": [],
   "source": []
  }
 ],
 "metadata": {
  "anaconda-cloud": {},
  "colab": {
   "collapsed_sections": [],
   "name": "bigfoot_solved.ipynb",
   "provenance": []
  },
  "kernel_info": {
   "name": "python3"
  },
  "kernelspec": {
   "display_name": "Python 3 (ipykernel)",
   "language": "python",
   "name": "python3"
  },
  "language_info": {
   "codemirror_mode": {
    "name": "ipython",
    "version": 3
   },
   "file_extension": ".py",
   "mimetype": "text/x-python",
   "name": "python",
   "nbconvert_exporter": "python",
   "pygments_lexer": "ipython3",
   "version": "3.10.8"
  },
  "nteract": {
   "version": "0.11.2"
  },
  "varInspector": {
   "cols": {
    "lenName": 16,
    "lenType": 16,
    "lenVar": 40
   },
   "kernels_config": {
    "python": {
     "delete_cmd_postfix": "",
     "delete_cmd_prefix": "del ",
     "library": "var_list.py",
     "varRefreshCmd": "print(var_dic_list())"
    },
    "r": {
     "delete_cmd_postfix": ") ",
     "delete_cmd_prefix": "rm(",
     "library": "var_list.r",
     "varRefreshCmd": "cat(var_dic_list()) "
    }
   },
   "types_to_exclude": [
    "module",
    "function",
    "builtin_function_or_method",
    "instance",
    "_Feature"
   ],
   "window_display": false
  },
  "vscode": {
   "interpreter": {
    "hash": "aee8b7b246df8f9039afb4144a1f6fd8d2ca17a180786b69acc140d282b71a49"
   }
  }
 },
 "nbformat": 4,
 "nbformat_minor": 1
}
