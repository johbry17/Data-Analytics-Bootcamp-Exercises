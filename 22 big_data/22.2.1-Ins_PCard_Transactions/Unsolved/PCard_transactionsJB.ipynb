{
 "cells": [
  {
   "cell_type": "code",
   "execution_count": 2,
   "metadata": {
    "colab": {
     "base_uri": "https://localhost:8080/"
    },
    "id": "TRYa0HhhhaGG",
    "outputId": "fb0d9c06-40fe-4269-e7d7-eb779da799d4"
   },
   "outputs": [],
   "source": [
    "# Import findspark and initialize. \n",
    "import findspark\n",
    "findspark.init()"
   ]
  },
  {
   "cell_type": "code",
   "execution_count": 3,
   "metadata": {
    "id": "PI2Ck8-XmCg9"
   },
   "outputs": [
    {
     "name": "stderr",
     "output_type": "stream",
     "text": [
      "23/11/08 23:17:14 WARN Utils: Your hostname, Justins-MacBook-Pro.local resolves to a loopback address: 127.0.0.1; using 10.0.0.125 instead (on interface en0)\n",
      "23/11/08 23:17:14 WARN Utils: Set SPARK_LOCAL_IP if you need to bind to another address\n",
      "Setting default log level to \"WARN\".\n",
      "To adjust logging level use sc.setLogLevel(newLevel). For SparkR, use setLogLevel(newLevel).\n",
      "23/11/08 23:17:14 WARN NativeCodeLoader: Unable to load native-hadoop library for your platform... using builtin-java classes where applicable\n"
     ]
    }
   ],
   "source": [
    "# Start a Spark session\n",
    "from pyspark.sql import SparkSession\n",
    "spark = SparkSession.builder.appName(\"PCard Transactions\").getOrCreate()"
   ]
  },
  {
   "cell_type": "code",
   "execution_count": 4,
   "metadata": {
    "colab": {
     "base_uri": "https://localhost:8080/"
    },
    "id": "WeAgnm-7kqs6",
    "outputId": "2386ac93-6e1c-4de3-9a45-43ffedcb3860"
   },
   "outputs": [
    {
     "name": "stderr",
     "output_type": "stream",
     "text": [
      "                                                                                \r"
     ]
    },
    {
     "name": "stdout",
     "output_type": "stream",
     "text": [
      "+----------+-------------+--------------------+--------------------+------------------------+--------------------+------+--------------------+--------------------+--------------------+----------------------------+\n",
      "|Year-Month|Agency Number|         Agency Name|Cardholder Last Name|Cardholder First Initial|         Description|Amount|              Vendor|    Transaction Date|         Posted Date|Merchant Category Code (MCC)|\n",
      "+----------+-------------+--------------------+--------------------+------------------------+--------------------+------+--------------------+--------------------+--------------------+----------------------------+\n",
      "|    201307|         1000|OKLAHOMA STATE UN...|               Mason|                       C|    GENERAL PURCHASE|   890|               NACAS|07/30/2013 12:00:...|07/31/2013 12:00:...|        CHARITABLE AND SO...|\n",
      "|    201307|         1000|OKLAHOMA STATE UN...|               Mason|                       C|        ROOM CHARGES|368.96|      SHERATON HOTEL|07/30/2013 12:00:...|07/31/2013 12:00:...|                    SHERATON|\n",
      "|    201307|         1000|OKLAHOMA STATE UN...|              Massey|                       J|    GENERAL PURCHASE|165.82|      SEARS.COM 9300|07/29/2013 12:00:...|07/31/2013 12:00:...|        DIRCT MARKETING/D...|\n",
      "|    201307|         1000|OKLAHOMA STATE UN...|              Massey|                       T|    GENERAL PURCHASE| 96.39|      WAL-MART #0137|07/30/2013 12:00:...|07/31/2013 12:00:...|        GROCERY STORES,AN...|\n",
      "|    201307|         1000|OKLAHOMA STATE UN...|       Mauro-Herrera|                       M|HAMMERMILL COPY P...|125.96|      STAPLES DIRECT|07/30/2013 12:00:...|07/31/2013 12:00:...|        STATIONERY, OFFIC...|\n",
      "|    201307|         1000|OKLAHOMA STATE UN...|       Mauro-Herrera|                       M|    GENERAL PURCHASE|394.28|KYOCERA DOCUMENT ...|07/29/2013 12:00:...|07/31/2013 12:00:...|        OFFICE, PHOTOGRAP...|\n",
      "|    201307|         1000|OKLAHOMA STATE UN...|                Mays|                       B|    GENERAL PURCHASE| 19.87|      WAL-MART #0137|07/30/2013 12:00:...|07/31/2013 12:00:...|        GROCERY STORES,AN...|\n",
      "|    201307|         1000|OKLAHOMA STATE UN...|                Mays|                       B|    GENERAL PURCHASE|  10.1|     DAYLIGHT DONUTS|07/29/2013 12:00:...|07/31/2013 12:00:...|        FAST FOOD RESTAUR...|\n",
      "|    201307|         1000|OKLAHOMA STATE UN...|            McCarthy|                       D|    GENERAL PURCHASE| 142.6|UFIRST  LAUNDRY SVCS|07/30/2013 12:00:...|07/31/2013 12:00:...|        MENS, WOMENS AND ...|\n",
      "|    201307|         1000|OKLAHOMA STATE UN...|             McClurg|                       L|AT&T SERVICE PAYM...| 29.99|           AT&T DATA|07/30/2013 12:00:...|07/31/2013 12:00:...|        TELECOMMUNICATION...|\n",
      "|    201307|         1000|OKLAHOMA STATE UN...|             McGowin|                       R|    GENERAL PURCHASE|278.23|       RANDY'S FOODS|07/29/2013 12:00:...|07/31/2013 12:00:...|        FREEZER AND LOCKE...|\n",
      "|    201307|         1000|OKLAHOMA STATE UN...|               McKee|                       P|    GENERAL PURCHASE| 127.8|DEARINGER PRINTIN...|07/30/2013 12:00:...|07/31/2013 12:00:...|        MISCELLANEOUS AND...|\n",
      "|    201307|         1000|OKLAHOMA STATE UN...|            McLemore|                       A|    GENERAL PURCHASE|572.27|GIDDINGS MACHINE CO.|07/30/2013 12:00:...|07/31/2013 12:00:...|        COMMERCIAL EQUIPM...|\n",
      "|    201307|         1000|OKLAHOMA STATE UN...|             McMurry|                       S|50-LB PLAY SAND B...|  12.9|        LOWES #00241|07/30/2013 12:00:...|07/31/2013 12:00:...|        HOME SUPPLY WAREH...|\n",
      "|    201307|         1000|OKLAHOMA STATE UN...|              Meints|                       K|    GENERAL PURCHASE|   445|OK DEPT OF VO-TEC...|07/30/2013 12:00:...|07/31/2013 12:00:...|        GOVERNMENT SERVIC...|\n",
      "|    201307|         1000|OKLAHOMA STATE UN...|           Mohiuddin|                       A|    GENERAL PURCHASE|452.91| TFS THERMOASHEVILLE|07/31/2013 12:00:...|07/31/2013 12:00:...|        DENTAL/LABORATORY...|\n",
      "|    201307|         1000|OKLAHOMA STATE UN...|           Mohiuddin|                       I|    GENERAL PURCHASE|  2425|WESTERN EQUIPMENT...|07/29/2013 12:00:...|07/31/2013 12:00:...|             HARDWARE STORES|\n",
      "|    201307|         1000|OKLAHOMA STATE UN...|           Mohiuddin|                       I|    GENERAL PURCHASE|  2425|WESTERN EQUIPMENT...|07/29/2013 12:00:...|07/31/2013 12:00:...|             HARDWARE STORES|\n",
      "|    201307|         1000|OKLAHOMA STATE UN...|         Mollenhauer|                       R|    GENERAL PURCHASE|  7.63|   HOBBY-LOBBY #0005|07/29/2013 12:00:...|07/31/2013 12:00:...|        HOBBY,TOY,AND GAM...|\n",
      "|    201307|         1000|OKLAHOMA STATE UN...|          MONTGOMERY|                       R|    GENERAL PURCHASE| 18.97|      WAL-MART #0121|07/30/2013 12:00:...|07/31/2013 12:00:...|        GROCERY STORES,AN...|\n",
      "+----------+-------------+--------------------+--------------------+------------------------+--------------------+------+--------------------+--------------------+--------------------+----------------------------+\n",
      "only showing top 20 rows\n",
      "\n"
     ]
    }
   ],
   "source": [
    "# Read in data from S3 Buckets\n",
    "from pyspark import SparkFiles\n",
    "url = \"https://2u-data-curriculum-team.s3.amazonaws.com/dataviz-classroom/v1.2/22-big-data/2/pcard_transactions.csv\"\n",
    "spark.sparkContext.addFile(url)\n",
    "df = spark.read.csv(SparkFiles.get(\"pcard_transactions.csv\"), sep=\",\", header=True)\n",
    "\n",
    "# Show DataFrame\n",
    "df.show()"
   ]
  },
  {
   "cell_type": "code",
   "execution_count": 5,
   "metadata": {},
   "outputs": [
    {
     "data": {
      "text/plain": [
       "[('Year-Month', 'string'),\n",
       " ('Agency Number', 'string'),\n",
       " ('Agency Name', 'string'),\n",
       " ('Cardholder Last Name', 'string'),\n",
       " ('Cardholder First Initial', 'string'),\n",
       " ('Description', 'string'),\n",
       " ('Amount', 'string'),\n",
       " ('Vendor', 'string'),\n",
       " ('Transaction Date', 'string'),\n",
       " ('Posted Date', 'string'),\n",
       " ('Merchant Category Code (MCC)', 'string')]"
      ]
     },
     "execution_count": 5,
     "metadata": {},
     "output_type": "execute_result"
    }
   ],
   "source": [
    "# Get the data types of the columns. \n",
    "df.dtypes"
   ]
  },
  {
   "cell_type": "code",
   "execution_count": 6,
   "metadata": {
    "id": "HJEX_0jhUrKs"
   },
   "outputs": [
    {
     "data": {
      "text/plain": [
       "[('Year-Month', 'string'),\n",
       " ('Agency Number', 'string'),\n",
       " ('Agency Name', 'string'),\n",
       " ('Cardholder Last Name', 'string'),\n",
       " ('Cardholder First Initial', 'string'),\n",
       " ('Description', 'string'),\n",
       " ('Amount', 'double'),\n",
       " ('Vendor', 'string'),\n",
       " ('Transaction Date', 'string'),\n",
       " ('Posted Date', 'string'),\n",
       " ('Merchant Category Code (MCC)', 'string')]"
      ]
     },
     "execution_count": 6,
     "metadata": {},
     "output_type": "execute_result"
    }
   ],
   "source": [
    "from pyspark.sql import types as T\n",
    "# Create a new DataFrame with an \"Amount\" column as a float datatype. \n",
    "df2 = df.withColumn('Amount', df.Amount.cast(T.DoubleType()))\n",
    "df2.dtypes"
   ]
  },
  {
   "cell_type": "code",
   "execution_count": 7,
   "metadata": {
    "colab": {
     "base_uri": "https://localhost:8080/"
    },
    "id": "hcCfoUZyvT79",
    "outputId": "76754dc5-9bb8-41ca-b706-886e237c5773"
   },
   "outputs": [
    {
     "name": "stderr",
     "output_type": "stream",
     "text": [
      "[Stage 2:>                                                          (0 + 8) / 8]\r"
     ]
    },
    {
     "name": "stdout",
     "output_type": "stream",
     "text": [
      "+-------------+-----------+\n",
      "|Agency number|max(Amount)|\n",
      "+-------------+-----------+\n",
      "|         1000|   27967.38|\n",
      "|         2200|      405.3|\n",
      "|        34600|     4179.2|\n",
      "|         2000|    2165.68|\n",
      "|        30800|   12715.06|\n",
      "|        12500|     1850.0|\n",
      "|        19000|     1800.0|\n",
      "|         6500|     4375.0|\n",
      "|        27000|    58875.0|\n",
      "|        21500|    3089.16|\n",
      "|         2500|  183367.93|\n",
      "|         9200|    7031.76|\n",
      "|         4900|    15223.3|\n",
      "|        18500|     6038.0|\n",
      "|        24000|     7351.5|\n",
      "|        32600|    3510.27|\n",
      "|        13100|   96190.38|\n",
      "|        31000|     2399.2|\n",
      "|         4000|    72060.0|\n",
      "|        22000|     5000.0|\n",
      "+-------------+-----------+\n",
      "only showing top 20 rows\n",
      "\n"
     ]
    },
    {
     "name": "stderr",
     "output_type": "stream",
     "text": [
      "                                                                                \r"
     ]
    }
   ],
   "source": [
    "from pyspark.sql import functions as F\n",
    "# Group the data on the Agency Name and get the maximum of the \"Amount.\"\n",
    "df_agency = df2.groupBy('Agency number').agg(F.max('Amount'))\n",
    "df_agency.show()"
   ]
  },
  {
   "cell_type": "code",
   "execution_count": 8,
   "metadata": {
    "colab": {
     "base_uri": "https://localhost:8080/"
    },
    "id": "I9-GoCzjWj3H",
    "outputId": "8dbeba3d-eed5-490f-a115-fbfecb8946e6"
   },
   "outputs": [
    {
     "name": "stdout",
     "output_type": "stream",
     "text": [
      "+-------------+-------------------+\n",
      "|Agency number|        sum(Amount)|\n",
      "+-------------+-------------------+\n",
      "|         1000|3.377883994000085E7|\n",
      "|         2200| 1821.1800000000003|\n",
      "|        34600|  79138.18999999999|\n",
      "|         2000|           18057.08|\n",
      "|        30800| 1117130.0200000012|\n",
      "|        12500| 28480.519999999993|\n",
      "|        19000|  40846.32000000001|\n",
      "|         6500| 122181.51999999997|\n",
      "|        27000| 167896.35999999996|\n",
      "|        21500| 23023.449999999997|\n",
      "|         2500| 3697283.2199999937|\n",
      "|         9200|  63968.06000000001|\n",
      "|         4900|  651519.2400000001|\n",
      "|        18500| 208050.81000000008|\n",
      "|        24000|  326154.9900000001|\n",
      "|        32600| 10831.349999999999|\n",
      "|        13100|1.398887190000005E7|\n",
      "|        31000|  68339.49000000003|\n",
      "|         4000|  2285718.489999994|\n",
      "|        22000|  156613.7499999999|\n",
      "+-------------+-------------------+\n",
      "only showing top 20 rows\n",
      "\n"
     ]
    }
   ],
   "source": [
    "# Group the data on the Agency Name and get the total of the \"Amount.\"\n",
    "df_agency = df2.groupBy('Agency number').agg(F.sum('Amount'))\n",
    "df_agency.show()"
   ]
  },
  {
   "cell_type": "code",
   "execution_count": 9,
   "metadata": {
    "colab": {
     "base_uri": "https://localhost:8080/"
    },
    "id": "JdZsvE0DWTZf",
    "outputId": "9f107cab-593f-483f-bb7a-da2c887e86e0"
   },
   "outputs": [
    {
     "name": "stdout",
     "output_type": "stream",
     "text": [
      "+-------------+-------------------+\n",
      "|Agency number|        sum(Amount)|\n",
      "+-------------+-------------------+\n",
      "|         1000|3.377883994000085E7|\n",
      "|         2200| 1821.1800000000003|\n",
      "|        34600|  79138.18999999999|\n",
      "|         2000|           18057.08|\n",
      "|        30800| 1117130.0200000012|\n",
      "|        12500| 28480.519999999993|\n",
      "|        19000|  40846.32000000001|\n",
      "|         6500| 122181.51999999997|\n",
      "|        27000| 167896.35999999996|\n",
      "|        21500| 23023.449999999997|\n",
      "|         2500| 3697283.2199999937|\n",
      "|         9200|  63968.06000000001|\n",
      "|         4900|  651519.2400000001|\n",
      "|        18500| 208050.81000000008|\n",
      "|        24000|  326154.9900000001|\n",
      "|        32600| 10831.349999999999|\n",
      "|        13100|1.398887190000005E7|\n",
      "|        31000|  68339.49000000003|\n",
      "|         4000|  2285718.489999994|\n",
      "|        22000|  156613.7499999999|\n",
      "+-------------+-------------------+\n",
      "only showing top 20 rows\n",
      "\n"
     ]
    }
   ],
   "source": [
    "# Group the data on the Agency Name and get the total of the \"Amount\" using the `agg()` function.\n",
    "df_agency = df2.groupBy('Agency number').agg(F.sum('Amount'))\n",
    "df_agency.show()"
   ]
  },
  {
   "cell_type": "code",
   "execution_count": 10,
   "metadata": {
    "colab": {
     "base_uri": "https://localhost:8080/"
    },
    "id": "-nJDZ4-AX7hr",
    "outputId": "378d514e-fdb0-4cc3-9345-8b947bd8b921"
   },
   "outputs": [
    {
     "name": "stdout",
     "output_type": "stream",
     "text": [
      "+-------------+------------------+\n",
      "|Agency number|       avg(Amount)|\n",
      "+-------------+------------------+\n",
      "|         1000| 291.2094481658765|\n",
      "|         2200|182.11800000000002|\n",
      "|        34600|378.65162679425833|\n",
      "|         2000|126.27328671328672|\n",
      "|        30800| 574.3599074550135|\n",
      "|        12500| 212.5411940298507|\n",
      "|        19000|179.93973568281942|\n",
      "|         6500| 293.7055769230769|\n",
      "|        27000| 739.6315418502201|\n",
      "|        21500|215.17242990654202|\n",
      "|         2500| 651.0447649234009|\n",
      "|         9200|310.52456310679617|\n",
      "|         4900|  435.798822742475|\n",
      "|        18500|229.13084801762125|\n",
      "|        24000|241.41746113989646|\n",
      "|        32600|180.52249999999998|\n",
      "|        13100| 626.6854179733022|\n",
      "|        31000| 295.8419480519482|\n",
      "|         4000| 417.8644405850081|\n",
      "|        22000| 241.3154853620954|\n",
      "+-------------+------------------+\n",
      "only showing top 20 rows\n",
      "\n"
     ]
    }
   ],
   "source": [
    "# Group the data on the Agency Name and get the average of the \"Amount\" using the agg() function.\n",
    "df_agency = df2.groupBy('Agency number').agg(F.avg('Amount'))\n",
    "df_agency.show()"
   ]
  },
  {
   "cell_type": "code",
   "execution_count": 11,
   "metadata": {
    "colab": {
     "base_uri": "https://localhost:8080/"
    },
    "id": "Yd_-i2LYYE_O",
    "outputId": "58f27d84-cf51-4b69-a383-11c26e592c19"
   },
   "outputs": [
    {
     "name": "stdout",
     "output_type": "stream",
     "text": [
      "+-------------+-------------+\n",
      "|Agency number|count(Amount)|\n",
      "+-------------+-------------+\n",
      "|         1000|       115995|\n",
      "|         2200|           10|\n",
      "|        34600|          209|\n",
      "|         2000|          143|\n",
      "|        30800|         1945|\n",
      "|        12500|          134|\n",
      "|        19000|          227|\n",
      "|         6500|          416|\n",
      "|        27000|          227|\n",
      "|        21500|          107|\n",
      "|         2500|         5679|\n",
      "|         9200|          206|\n",
      "|         4900|         1495|\n",
      "|        18500|          908|\n",
      "|        24000|         1351|\n",
      "|        32600|           60|\n",
      "|        13100|        22322|\n",
      "|        31000|          231|\n",
      "|         4000|         5470|\n",
      "|        22000|          649|\n",
      "+-------------+-------------+\n",
      "only showing top 20 rows\n",
      "\n"
     ]
    }
   ],
   "source": [
    "# Group the data on the Agency Name and get the count of transactions of the \"Amount\" using the agg() function.\n",
    "df_agency = df2.groupBy('Agency number').agg(F.count('Amount'))\n",
    "df_agency.show()"
   ]
  },
  {
   "cell_type": "code",
   "execution_count": 14,
   "metadata": {},
   "outputs": [
    {
     "data": {
      "text/plain": [
       "['Year-Month',\n",
       " 'Agency Number',\n",
       " 'Agency Name',\n",
       " 'Cardholder Last Name',\n",
       " 'Cardholder First Initial',\n",
       " 'Description',\n",
       " 'Amount',\n",
       " 'Vendor',\n",
       " 'Transaction Date',\n",
       " 'Posted Date',\n",
       " 'Merchant Category Code (MCC)']"
      ]
     },
     "execution_count": 14,
     "metadata": {},
     "output_type": "execute_result"
    }
   ],
   "source": [
    "df2.columns"
   ]
  },
  {
   "cell_type": "code",
   "execution_count": 15,
   "metadata": {
    "colab": {
     "base_uri": "https://localhost:8080/"
    },
    "id": "P271-VziYVHE",
    "outputId": "32fd04ec-7f17-4f29-c93f-b4dbbc84460f"
   },
   "outputs": [
    {
     "name": "stdout",
     "output_type": "stream",
     "text": [
      "+--------------------+-----------+\n",
      "|Cardholder Last Name|max(Amount)|\n",
      "+--------------------+-----------+\n",
      "|           Fairbanks|    3310.23|\n",
      "|           Worcester|       6.97|\n",
      "|              GILROY|    2476.95|\n",
      "|            Callaham|     3775.0|\n",
      "|             Creager|    1062.24|\n",
      "|               Dunne|    3812.62|\n",
      "|             Edmonds|     892.27|\n",
      "|            Wooliver|     1833.2|\n",
      "|               Gerlt|     3582.0|\n",
      "|             Guthals|     2113.5|\n",
      "|              Ownbey|    1335.09|\n",
      "|              Porter|    3655.99|\n",
      "|                Frie|    1341.65|\n",
      "|                Deal|     518.52|\n",
      "|            McDowell|     2000.0|\n",
      "|               Scott|     4157.0|\n",
      "|              Wilson|     5000.0|\n",
      "|            Wilbourn|    1463.21|\n",
      "|           Robertson|    7909.28|\n",
      "|                Goad|     3900.0|\n",
      "+--------------------+-----------+\n",
      "only showing top 20 rows\n",
      "\n"
     ]
    }
   ],
   "source": [
    "# Group the data on the cardholder last name and get the maximum transaction per cardholder using the agg() function.\n",
    "df_agency = df2.groupBy('Cardholder Last Name').agg(F.max('Amount'))\n",
    "df_agency.show()"
   ]
  },
  {
   "cell_type": "code",
   "execution_count": 16,
   "metadata": {
    "colab": {
     "base_uri": "https://localhost:8080/"
    },
    "id": "xf9GaATqYs6q",
    "outputId": "ef6b9435-810f-44db-c0ee-a96c6cda3769"
   },
   "outputs": [
    {
     "name": "stdout",
     "output_type": "stream",
     "text": [
      "+--------------------+------------------+\n",
      "|Cardholder Last Name|       avg(Amount)|\n",
      "+--------------------+------------------+\n",
      "|           Fairbanks|441.81742857142854|\n",
      "|           Worcester| 5.734999999999999|\n",
      "|              GILROY|246.38892473118278|\n",
      "|            Callaham| 401.3933962264152|\n",
      "|             Creager|122.80977272727272|\n",
      "|               Dunne|503.36099999999993|\n",
      "|             Edmonds|118.90054545454545|\n",
      "|            Wooliver|427.08142857142855|\n",
      "|               Gerlt| 246.3202816901408|\n",
      "|             Guthals|179.90105263157895|\n",
      "|              Ownbey| 452.5236363636364|\n",
      "|              Porter|182.50486187845306|\n",
      "|                Frie| 361.6395238095239|\n",
      "|                Deal|123.70599999999997|\n",
      "|            McDowell|383.48324324324324|\n",
      "|               Scott|  314.994703196347|\n",
      "|              Wilson|283.88818092428716|\n",
      "|            Wilbourn| 171.2954166666666|\n",
      "|           Robertson| 329.7328614457831|\n",
      "|                Goad|299.32178160919534|\n",
      "+--------------------+------------------+\n",
      "only showing top 20 rows\n",
      "\n"
     ]
    }
   ],
   "source": [
    "# Get the average transaction per cardholder using the agg() function.\n",
    "# Group the data on the cardholder last name and get the maximum transaction per cardholder using the agg() function.\n",
    "df_agency = df2.groupBy('Cardholder Last Name').agg(F.avg('Amount'))\n",
    "df_agency.show()"
   ]
  },
  {
   "cell_type": "code",
   "execution_count": null,
   "metadata": {},
   "outputs": [],
   "source": []
  }
 ],
 "metadata": {
  "colab": {
   "collapsed_sections": [],
   "name": "PCardTransactions.ipynb",
   "provenance": []
  },
  "kernelspec": {
   "display_name": "Python 3 (ipykernel)",
   "language": "python",
   "name": "python3"
  },
  "language_info": {
   "codemirror_mode": {
    "name": "ipython",
    "version": 3
   },
   "file_extension": ".py",
   "mimetype": "text/x-python",
   "name": "python",
   "nbconvert_exporter": "python",
   "pygments_lexer": "ipython3",
   "version": "3.10.8"
  }
 },
 "nbformat": 4,
 "nbformat_minor": 1
}
